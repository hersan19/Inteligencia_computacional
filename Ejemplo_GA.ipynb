{
  "nbformat": 4,
  "nbformat_minor": 0,
  "metadata": {
    "colab": {
      "name": "Ejemplo_GA.ipynb",
      "provenance": [],
      "toc_visible": true,
      "include_colab_link": true
    },
    "kernelspec": {
      "name": "python3",
      "display_name": "Python 3"
    },
    "language_info": {
      "name": "python"
    }
  },
  "cells": [
    {
      "cell_type": "markdown",
      "metadata": {
        "id": "view-in-github",
        "colab_type": "text"
      },
      "source": [
        "<a href=\"https://colab.research.google.com/github/hersan19/Inteligencia_computacional/blob/main/Ejemplo_GA.ipynb\" target=\"_parent\"><img src=\"https://colab.research.google.com/assets/colab-badge.svg\" alt=\"Open In Colab\"/></a>"
      ]
    },
    {
      "cell_type": "markdown",
      "metadata": {
        "id": "1N-RFNjvFZWv"
      },
      "source": [
        "# Ejemplo algoritmo genético para la solución del problema del viajero\n",
        "\n",
        "Se instala la biblioteca DEAP (Distributed Evolutionary Algorithms in Python).\n",
        "\n",
        "Para más información acerca de la biblioteca consultar la documentación en el siguiente link.\n",
        "\n",
        "https://deap.readthedocs.io/en/master/index.html\n"
      ]
    },
    {
      "cell_type": "code",
      "metadata": {
        "colab": {
          "base_uri": "https://localhost:8080/"
        },
        "id": "UlZccedmogW5",
        "outputId": "104de3fa-38ef-4119-83e6-bc121facad03"
      },
      "source": [
        "pip install deap"
      ],
      "execution_count": 21,
      "outputs": [
        {
          "output_type": "stream",
          "name": "stdout",
          "text": [
            "Requirement already satisfied: deap in /usr/local/lib/python3.7/dist-packages (1.3.1)\n",
            "Requirement already satisfied: numpy in /usr/local/lib/python3.7/dist-packages (from deap) (1.19.5)\n"
          ]
        }
      ]
    },
    {
      "cell_type": "markdown",
      "metadata": {
        "id": "LMCwTsSZGXlF"
      },
      "source": [
        "Se importan las bibliotecas que se utilizarán para este ejemplo"
      ]
    },
    {
      "cell_type": "code",
      "metadata": {
        "id": "VBeLPF7p1Mqu"
      },
      "source": [
        "import array\n",
        "import random\n",
        "import json\n",
        "import numpy\n",
        "from deap import algorithms,base,creator,tools\n",
        "import pandas as pd\n",
        "import numpy as np"
      ],
      "execution_count": 23,
      "outputs": []
    },
    {
      "cell_type": "markdown",
      "metadata": {
        "id": "cm6I0QFeGnOy"
      },
      "source": [
        "# **Funciones**\n",
        "\n",
        "Para la solución del problema se implementa la función \"Euclidian\", la cual realiza el cálculo de la distancia entre dos puntos.\n",
        "\n",
        "Especificamente, se realiza el cáluclo de la distancia euclidiana entre dos coordenadas geográficas."
      ]
    },
    {
      "cell_type": "code",
      "metadata": {
        "id": "M9ZWXmGmGmkr"
      },
      "source": [
        "import math\n",
        "def Euclidian(X, Y):\n",
        "    return math.sqrt( (float(X[1])-float(Y[1]))**2 + (float(X[0])-float(Y[0]))**2)\n",
        "    \n"
      ],
      "execution_count": 24,
      "outputs": []
    },
    {
      "cell_type": "markdown",
      "metadata": {
        "id": "Nrp_oh2cH331"
      },
      "source": [
        "Se implementa la función \"Distances\".\n",
        "\n",
        "Esta función realiza el cálculo de la distancia total de un ciurcuito al pasar por todas las capitales. \n",
        "Es decir, se obtiene el costo total de cada uno de los circuitos o posibles soluciones. "
      ]
    },
    {
      "cell_type": "code",
      "metadata": {
        "id": "fd5nJOdYH3S9"
      },
      "source": [
        "def Distances(cities):\n",
        "    r= len(cities)\n",
        "    M=np.zeros((r,r))\n",
        "    for i in range(r-1):\n",
        "        for j in range(i+1, r):\n",
        "            M[i][j] = Euclidian(cities[i], cities[j])\n",
        "            M[j][i]= M[i][j]\n",
        "    return M"
      ],
      "execution_count": 25,
      "outputs": []
    },
    {
      "cell_type": "markdown",
      "metadata": {
        "id": "OA7sMcLQHgSa"
      },
      "source": [
        "Se obtienen las coordenadas geográficas de las capitales de cada uno de los estados de la república mexicana.\n",
        "\n",
        "Cada ciudad cuenta con los valores de \"latitud\" y \"longitud\""
      ]
    },
    {
      "cell_type": "code",
      "metadata": {
        "id": "nVXw_0uGHc_I"
      },
      "source": [
        "url=\"https://raw.githubusercontent.com/hersan19/Inteligencia_computacional/main/ciudades.csv\"\n",
        "df_ciudades=pd.read_csv(url)\n",
        "datas = list(zip(list(df_ciudades.latitud), list(df_ciudades.longitud)))"
      ],
      "execution_count": 26,
      "outputs": []
    },
    {
      "cell_type": "markdown",
      "metadata": {
        "id": "eq_GlbBj-Uk5"
      },
      "source": [
        "Creación de diccionario para relacionar el indice con el nombre de la ciudad"
      ]
    },
    {
      "cell_type": "code",
      "metadata": {
        "id": "TZzcQ1bSYXQf"
      },
      "source": [
        "diccionario=df_ciudades[\"ciudad\"]\n",
        "diccionario=diccionario.to_dict()\n"
      ],
      "execution_count": 27,
      "outputs": []
    },
    {
      "cell_type": "markdown",
      "metadata": {
        "id": "ERx79GNnIWJg"
      },
      "source": [
        "# Configuración inicial de DEAP\n",
        "\n",
        "Se implementa el algoritmo completo utilizando la biblioteca DEAP, la cual permite utilizar una representación para la solución del problema.\n",
        "\n",
        "La representación es la siguiente:\n",
        "\n",
        "[2, 7, 8, 1, 3, 9, 4, 5, 6, 0]"
      ]
    },
    {
      "cell_type": "code",
      "metadata": {
        "id": "SP1dmVGVskm0",
        "colab": {
          "base_uri": "https://localhost:8080/"
        },
        "outputId": "27947f20-b9b1-4e13-a62d-eb98460bc2f8"
      },
      "source": [
        "# Asignaciones de las distancias\n",
        "distance_map =Distances(datas)\n",
        "IND_SIZE = len(datas) # Número de ciudades a recorrer\n",
        "\n",
        "# Se crea la clase \"Individual\" usando \"creator\" como herramienta. \n",
        "# La clase \"Individual\" es una arreglo y tiene como atributo \"FitnessMin\" el cual será su aptitud.\n",
        "creator.create(\"FitnessMin\", base.Fitness, weights=(-1.0,)) # El parámetro \"weights=-1.0\" establece que es una minimización \n",
        "creator.create(\"Individual\", array.array, typecode='i', fitness=creator.FitnessMin)\n",
        "# Caja de herramientas para inicializar los individuos\n",
        "\n",
        "# Toolbox.register crea un alias para una función.\n",
        "toolbox = base.Toolbox()\n",
        "\n",
        "# Generador de circuitos.\n",
        "toolbox.register(\"indices\", random.sample, range(IND_SIZE), IND_SIZE)  \n",
        "# El individuo llamado \"individual\", toma las características de aptitud.\n",
        "toolbox.register(\"individual\", tools.initIterate, creator.Individual, toolbox.indices) \n",
        "# La población es el conjunto de \"n\" individuos.\n",
        "toolbox.register(\"population\", tools.initRepeat, list, toolbox.individual)\n",
        "\n",
        "# Se declara la función encargada de evaluar los individuos.\n",
        "def evalTSP(individual):\n",
        "    distance = distance_map[individual[-1]][individual[0]]\n",
        "    for gene1, gene2 in zip(individual[0:-1], individual[1:]):\n",
        "        distance += distance_map[gene1][gene2]\n",
        "    return distance,\n",
        "\n",
        "# Se configuran los parámetros de cruza, mutación, el método de selección y se agrega al toolbox la función encaraga de evaluar a la población.\n",
        "toolbox.register(\"mate\", tools.cxPartialyMatched)\n",
        "toolbox.register(\"mutate\", tools.mutShuffleIndexes, indpb=0.05)\n",
        "toolbox.register(\"select\", tools.selTournament, tournsize=3)\n",
        "toolbox.register(\"evaluate\", evalTSP)\n",
        "\n",
        "\n"
      ],
      "execution_count": 28,
      "outputs": [
        {
          "output_type": "stream",
          "name": "stderr",
          "text": [
            "/usr/local/lib/python3.7/dist-packages/deap/creator.py:141: RuntimeWarning:\n",
            "\n",
            "A class named 'FitnessMin' has already been created and it will be overwritten. Consider deleting previous creation of that class or rename it.\n",
            "\n",
            "/usr/local/lib/python3.7/dist-packages/deap/creator.py:141: RuntimeWarning:\n",
            "\n",
            "A class named 'Individual' has already been created and it will be overwritten. Consider deleting previous creation of that class or rename it.\n",
            "\n"
          ]
        }
      ]
    },
    {
      "cell_type": "markdown",
      "metadata": {
        "id": "Jh-kbdxTo1uE"
      },
      "source": [
        "# Algoritmo general\n",
        "Se definen los parámetros para el algoritmo genético, así como se agregan elementos al toolbox para guardar las estadísticas del proceso de búsqueda."
      ]
    },
    {
      "cell_type": "code",
      "metadata": {
        "id": "fLV1MRl3nqDU"
      },
      "source": [
        "def main(): # algoritmo principal\n",
        "    #random.seed(0)\n",
        "    # Parámetros del algoritmo genético\n",
        "    numero_individuos=100\n",
        "    p_cruza=0.8\n",
        "    p_mutacion=0.5\n",
        "    generaciones=100\n",
        "    # Creación de la población\n",
        "    pop = toolbox.population(n=numero_individuos)\n",
        "    # hof (Hall Of Fame) se guarda el mejor individuo que siempre ha existido durante todo el proceso evolutivo\n",
        "    hof = tools.HallOfFame(1)\n",
        "    # Se agrega \"tools.Statistics\" para guardar las estadísticas de las aptitudes del proceso evolutivo\n",
        "    stats = tools.Statistics(lambda ind: ind.fitness.values)\n",
        "    stats.register(\"avg\", numpy.mean)\n",
        "    stats.register(\"std\", numpy.std)\n",
        "    stats.register(\"min\", numpy.min)\n",
        "    stats.register(\"max\", numpy.max)\n",
        "    # Se configura el algoritmo evolutivo\n",
        "    pop,log=algorithms.eaSimple(pop, toolbox, p_cruza, p_mutacion, generaciones, stats=stats, \n",
        "                        halloffame=hof,verbose=True)\n",
        "    \n",
        "    return pop, log,hof"
      ],
      "execution_count": 29,
      "outputs": []
    },
    {
      "cell_type": "code",
      "metadata": {
        "colab": {
          "base_uri": "https://localhost:8080/"
        },
        "id": "qPgIHZcC5hBf",
        "outputId": "630fa939-9f38-42b8-d81a-c71c6a9d4d25"
      },
      "source": [
        "pop,estadisticas,mejor=main()"
      ],
      "execution_count": 30,
      "outputs": [
        {
          "output_type": "stream",
          "name": "stdout",
          "text": [
            "gen\tnevals\tavg    \tstd    \tmin    \tmax    \n",
            "0  \t100   \t263.373\t17.2888\t215.668\t295.782\n",
            "1  \t96    \t255.206\t19.3767\t205.191\t295.059\n",
            "2  \t88    \t251.099\t19.9748\t200.105\t298.659\n",
            "3  \t93    \t249.728\t21.2723\t193.883\t300.905\n",
            "4  \t95    \t247.469\t18.2369\t199.195\t291.569\n",
            "5  \t90    \t248.1  \t18.6158\t212.459\t305.061\n",
            "6  \t93    \t248.865\t20.5636\t212.016\t295.327\n",
            "7  \t95    \t247.538\t18.7981\t183.804\t296.355\n",
            "8  \t89    \t244.058\t21.8104\t183.804\t295.862\n",
            "9  \t87    \t239.412\t21.6697\t187.537\t297.855\n",
            "10 \t98    \t239.586\t21.3438\t198.504\t306.938\n",
            "11 \t92    \t234.684\t19.9121\t185.432\t284.109\n",
            "12 \t90    \t238.125\t21.4754\t198.468\t300.272\n",
            "13 \t86    \t238.099\t21.916 \t198.468\t284.149\n",
            "14 \t89    \t237.577\t20.3658\t198.387\t285.731\n",
            "15 \t90    \t237.67 \t22.275 \t176.08 \t295.808\n",
            "16 \t89    \t234.742\t21.426 \t176.08 \t291.868\n",
            "17 \t94    \t229.76 \t21.7483\t175.925\t275.161\n",
            "18 \t94    \t233.58 \t24.1674\t179.523\t292.491\n",
            "19 \t91    \t232.088\t25.8781\t186.63 \t294.347\n",
            "20 \t89    \t227.107\t23.5051\t172.502\t282.91 \n",
            "21 \t90    \t224.301\t26.8185\t171.778\t301.372\n",
            "22 \t92    \t225.025\t27.7874\t169.994\t295.492\n",
            "23 \t87    \t222.912\t26.4885\t168.582\t303.062\n",
            "24 \t88    \t216.529\t23.4875\t168.236\t272.872\n",
            "25 \t93    \t212.37 \t24.5183\t168.236\t280.744\n",
            "26 \t95    \t206.665\t23.4105\t163.946\t278.064\n",
            "27 \t91    \t207.456\t23.7205\t163.946\t279.053\n",
            "28 \t91    \t206.777\t26.7667\t163.946\t310.495\n",
            "29 \t95    \t201.284\t21.2984\t156.874\t251.72 \n",
            "30 \t87    \t195.159\t23.0516\t158.882\t271.329\n",
            "31 \t93    \t192.389\t20.7899\t149.762\t257.18 \n",
            "32 \t90    \t189.233\t19.9227\t149.762\t243.787\n",
            "33 \t93    \t192.803\t22.918 \t154.563\t251.365\n",
            "34 \t85    \t190.238\t21.9152\t148.849\t253.295\n",
            "35 \t89    \t186.713\t23.6674\t143.74 \t267.692\n",
            "36 \t93    \t189.388\t26.5515\t145.652\t271.525\n",
            "37 \t90    \t183.875\t21.483 \t143.563\t243.721\n",
            "38 \t98    \t186.364\t25.3278\t145.774\t295.312\n",
            "39 \t95    \t183.306\t19.0809\t145.202\t236.009\n",
            "40 \t94    \t184.317\t19.529 \t151.101\t246.418\n",
            "41 \t94    \t182.699\t21.3171\t147.354\t251.435\n",
            "42 \t94    \t185.341\t23.7461\t147.354\t251.719\n",
            "43 \t88    \t183.392\t23.3381\t147.354\t251.015\n",
            "44 \t95    \t185.557\t23.9276\t146.842\t258.958\n",
            "45 \t93    \t182.568\t22.6069\t143.67 \t263.788\n",
            "46 \t87    \t177.315\t18.0969\t139.189\t215.194\n",
            "47 \t96    \t182.448\t25.5207\t139.706\t270.574\n",
            "48 \t90    \t179.544\t20.8078\t138.825\t242.752\n",
            "49 \t90    \t177.55 \t19.3805\t136.55 \t233.593\n",
            "50 \t92    \t175.29 \t23.7284\t137.735\t280.939\n",
            "51 \t88    \t169.519\t19.7972\t139.789\t239.59 \n",
            "52 \t94    \t173.983\t24.295 \t138.343\t252.817\n",
            "53 \t93    \t173.529\t21.3365\t141.536\t250.978\n",
            "54 \t91    \t175.41 \t22.2623\t141.982\t234.087\n",
            "55 \t88    \t172.961\t22.3036\t138.153\t240.242\n",
            "56 \t86    \t173.057\t22.5155\t141.043\t247.836\n",
            "57 \t93    \t172.864\t22.6202\t142.151\t253.931\n",
            "58 \t95    \t173.179\t24.027 \t139.463\t266.639\n",
            "59 \t94    \t170.845\t24.3135\t129.523\t287.246\n",
            "60 \t74    \t168.867\t25.8096\t130.457\t285.32 \n",
            "61 \t89    \t164.525\t21.937 \t130.457\t226.847\n",
            "62 \t91    \t162.836\t21.9683\t129.364\t256.975\n",
            "63 \t99    \t165.225\t22.9738\t127.767\t243.102\n",
            "64 \t95    \t160.337\t22.8578\t128.696\t243.709\n",
            "65 \t92    \t157.994\t23.7423\t128.696\t248.307\n",
            "66 \t89    \t156.202\t22.7813\t128.696\t252.262\n",
            "67 \t92    \t155.203\t23.8707\t125.805\t241.174\n",
            "68 \t90    \t151.624\t19.5842\t126.412\t215.922\n",
            "69 \t90    \t152.665\t21.9063\t126.756\t220.48 \n",
            "70 \t83    \t150.937\t22.7905\t125.824\t239.817\n",
            "71 \t94    \t153.813\t24.5098\t124.518\t277.276\n",
            "72 \t88    \t149.836\t23.2896\t125.333\t238.025\n",
            "73 \t91    \t149.515\t26.773 \t119.079\t247.541\n",
            "74 \t91    \t151.574\t23.8323\t118.629\t226.477\n",
            "75 \t89    \t151.502\t26.7033\t121.004\t249.266\n",
            "76 \t87    \t147.49 \t22.9485\t119.405\t238.976\n",
            "77 \t92    \t143.524\t20.2143\t119.405\t220.485\n",
            "78 \t84    \t146.313\t22.3392\t119.405\t203.058\n",
            "79 \t93    \t143.243\t20.5564\t119.995\t207.554\n",
            "80 \t85    \t144.326\t22.8306\t118.975\t216.195\n",
            "81 \t87    \t148.929\t25.1751\t118.975\t250.648\n",
            "82 \t85    \t150.896\t28.5219\t118.975\t256.751\n",
            "83 \t94    \t145.313\t23.6777\t118.975\t246.514\n",
            "84 \t93    \t142.384\t21.6392\t122.24 \t230.729\n",
            "85 \t95    \t138.651\t17.9164\t120.128\t216.686\n",
            "86 \t85    \t139.206\t21.6526\t115.643\t250.24 \n",
            "87 \t86    \t139.754\t23.306 \t115.643\t223.094\n",
            "88 \t95    \t140.157\t25.2068\t115.531\t234.703\n",
            "89 \t94    \t139.55 \t24.3528\t115.063\t212.021\n",
            "90 \t91    \t136.753\t27.0248\t113.756\t265.387\n",
            "91 \t90    \t135.519\t23.5819\t115.024\t213.383\n",
            "92 \t92    \t135.664\t22.6433\t115.024\t245.633\n",
            "93 \t86    \t133.413\t20.9741\t114.831\t208.881\n",
            "94 \t91    \t131.62 \t21.0798\t114.068\t214.354\n",
            "95 \t92    \t129.642\t18.2462\t113.614\t208.548\n",
            "96 \t91    \t130.66 \t23.3788\t113.871\t234.288\n",
            "97 \t89    \t134.859\t25.1661\t113.871\t230.46 \n",
            "98 \t93    \t134.759\t24.2176\t113.871\t221.406\n",
            "99 \t91    \t134.274\t27.0284\t112.175\t243.763\n",
            "100\t94    \t131.529\t25.3266\t112.356\t213.257\n"
          ]
        }
      ]
    },
    {
      "cell_type": "markdown",
      "metadata": {
        "id": "SKF5RUl5cRBd"
      },
      "source": [
        "Se obtiene el mejor individuo que se encontró en el proceso de búsqueda"
      ]
    },
    {
      "cell_type": "code",
      "metadata": {
        "colab": {
          "base_uri": "https://localhost:8080/"
        },
        "id": "OMd8gTfzbZYy",
        "outputId": "489f582e-ed7f-496b-bd20-de83ce5ef094"
      },
      "source": [
        "mejor[0]\n"
      ],
      "execution_count": 31,
      "outputs": [
        {
          "output_type": "execute_result",
          "data": {
            "text/plain": [
              "Individual('i', [12, 29, 5, 26, 3, 22, 30, 18, 24, 2, 1, 25, 4, 31, 13, 7, 23, 27, 6, 16, 10, 14, 28, 19, 20, 11, 15, 0, 8, 17, 9, 21])"
            ]
          },
          "metadata": {},
          "execution_count": 31
        }
      ]
    },
    {
      "cell_type": "markdown",
      "metadata": {
        "id": "3UgWCtuldL_I"
      },
      "source": [
        "Se realiza la decodificación del mejor individuo mediante el uso del diccionario previamente definido. \n",
        "\n",
        "De esta manera se obtienen los nombres de cada una de las capitales del mejor recorrido encontrado."
      ]
    },
    {
      "cell_type": "code",
      "metadata": {
        "id": "z5v8610mJVzG",
        "colab": {
          "base_uri": "https://localhost:8080/"
        },
        "outputId": "fda58c81-1ba6-4d65-c139-36613dd6fcb9"
      },
      "source": [
        "recorrido_nombres=[]\n",
        "aux=0\n",
        "for ciudad in mejor[0]:  \n",
        "  recorrido_nombres.append(diccionario.get(ciudad,ciudad))\n",
        "recorrido_nombres.append(diccionario.get(mejor[0][0]))\n",
        "recorrido_nombres"
      ],
      "execution_count": 32,
      "outputs": [
        {
          "output_type": "execute_result",
          "data": {
            "text/plain": [
              "['pachuca',\n",
              " 'xalapa',\n",
              " 'tuxtlaGtz',\n",
              " 'villahermosa',\n",
              " 'campeche',\n",
              " 'chetumal',\n",
              " 'merida',\n",
              " 'monterrey',\n",
              " 'culiacan',\n",
              " 'lapaz',\n",
              " 'mexicalli',\n",
              " 'hermosillo',\n",
              " 'chihuahua',\n",
              " 'zacatecas',\n",
              " 'guadalajara',\n",
              " 'colima',\n",
              " 'Sanluis',\n",
              " 'cuidadvictoria',\n",
              " 'Saltillo',\n",
              " 'cuernavaca',\n",
              " 'chilpancingo',\n",
              " 'toluca',\n",
              " 'tlaxcala',\n",
              " 'oaxaca',\n",
              " 'puebla',\n",
              " 'cdmx',\n",
              " 'morelia',\n",
              " 'aguascalientes',\n",
              " 'victoriaDurango',\n",
              " 'tepic',\n",
              " 'guanajuato',\n",
              " 'queretaro',\n",
              " 'pachuca']"
            ]
          },
          "metadata": {},
          "execution_count": 32
        }
      ]
    },
    {
      "cell_type": "markdown",
      "metadata": {
        "id": "m_uEMZCjJVoo"
      },
      "source": [
        "En este apartado se decodifica el mejor individuo en términos de las coordenadas geograficas de cada una de las capitales, con el fin de obtener colocarlas en el mapa."
      ]
    },
    {
      "cell_type": "code",
      "metadata": {
        "id": "L7YdYLeT8IMg"
      },
      "source": [
        "recorrido=[]\n",
        "for i in range(32):\n",
        "  latitud=df_ciudades.iloc[mejor[0][i]][\"latitud\"]\n",
        "  longitud=df_ciudades.iloc[mejor[0][i]][\"longitud\"]\n",
        "  recorrido.append((latitud,longitud))"
      ],
      "execution_count": 33,
      "outputs": []
    },
    {
      "cell_type": "code",
      "metadata": {
        "colab": {
          "base_uri": "https://localhost:8080/",
          "height": 1000
        },
        "id": "EhvYqF-s6PRA",
        "outputId": "c18473c8-e556-4951-8a4c-2c1368247795"
      },
      "source": [
        "import plotly.express as px\n",
        "import plotly.graph_objects as go\n",
        "\n",
        "fig=go.Figure()\n",
        "# Se agregan los puntos que representan la ubicación de las capitales\n",
        "fig.add_trace(go.Scattergeo(\n",
        "    #locations = [\"Mexico\"],\n",
        "    #locationmode = 'country names',\n",
        "    lon=df_ciudades[\"longitud\"],\n",
        "    lat=df_ciudades[\"latitud\"],\n",
        "    hoverinfo=\"text\",\n",
        "    hovertext=df_ciudades[\"ciudad\"],\n",
        "    #text=df_ciudades[\"ciudad\"],\n",
        "    mode=\"markers\",\n",
        "    marker = dict(size=2,color='rgb(255,0,0)',line=dict(width=3,color='rgba(68,68,0)'))))\n",
        "\n",
        "# Ciclo para realizar la unión de los puntos de acuerdo con el mejor individuo \n",
        "for i in range(31):\n",
        "  fig.add_trace(go.Scattergeo(\n",
        "      lat=[recorrido[i][0],recorrido[i+1][0]],\n",
        "      lon=[recorrido[i][1],recorrido[i+1][1]],\n",
        "      mode=\"lines\",\n",
        "      line=dict(width=1,color=\"blue\"),\n",
        "  ))\n",
        "fig.add_trace(go.Scattergeo(\n",
        "    lat=[recorrido[-1][0],recorrido[0][0]],\n",
        "    lon=[recorrido[-1][1],recorrido[0][1]],\n",
        "    mode=\"lines\",\n",
        "    line=dict(width=1,color=\"blue\"),\n",
        "  ))\n",
        "\n",
        "fig.update_layout(title_text=\"Mejor recorrido\",showlegend=True,\n",
        "                  geo =dict(\n",
        "                      #showcountries=True,\n",
        "                      scope=\"north america\",\n",
        "                      projection_type ='conic equal area',                      \n",
        "                      showland = True,\n",
        "                      #landcolor='rgb(243,243,243)',\n",
        "                      #countrycolor='rgb(204,204,204)',\n",
        "                  ), width=1800, height=1400)\n",
        "fig.show()"
      ],
      "execution_count": 34,
      "outputs": [
        {
          "output_type": "display_data",
          "data": {
            "text/html": [
              "<html>\n",
              "<head><meta charset=\"utf-8\" /></head>\n",
              "<body>\n",
              "    <div>\n",
              "            <script src=\"https://cdnjs.cloudflare.com/ajax/libs/mathjax/2.7.5/MathJax.js?config=TeX-AMS-MML_SVG\"></script><script type=\"text/javascript\">if (window.MathJax) {MathJax.Hub.Config({SVG: {font: \"STIX-Web\"}});}</script>\n",
              "                <script type=\"text/javascript\">window.PlotlyConfig = {MathJaxConfig: 'local'};</script>\n",
              "        <script src=\"https://cdn.plot.ly/plotly-latest.min.js\"></script>    \n",
              "            <div id=\"54537ee9-a8a8-4f43-a2ad-5fddf338637e\" class=\"plotly-graph-div\" style=\"height:1400px; width:1800px;\"></div>\n",
              "            <script type=\"text/javascript\">\n",
              "                \n",
              "                    window.PLOTLYENV=window.PLOTLYENV || {};\n",
              "                    \n",
              "                if (document.getElementById(\"54537ee9-a8a8-4f43-a2ad-5fddf338637e\")) {\n",
              "                    Plotly.newPlot(\n",
              "                        '54537ee9-a8a8-4f43-a2ad-5fddf338637e',\n",
              "                        [{\"hoverinfo\": \"text\", \"hovertext\": [\"aguascalientes\", \"mexicalli\", \"lapaz\", \"campeche\", \"chihuahua\", \"tuxtlaGtz\", \"Saltillo\", \"colima\", \"victoriaDurango\", \"guanajuato\", \"chilpancingo\", \"cdmx\", \"pachuca\", \"guadalajara\", \"toluca\", \"morelia\", \"cuernavaca\", \"tepic\", \"monterrey\", \"oaxaca\", \"puebla\", \"queretaro\", \"chetumal\", \"Sanluis\", \"culiacan\", \"hermosillo\", \"villahermosa\", \"cuidadvictoria\", \"tlaxcala\", \"xalapa\", \"merida\", \"zacatecas\"], \"lat\": [21.8823395, 32.6278114, 24.144370000000002, 19.843860600000003, 28.635280600000005, 16.759729399999998, 25.423210100000002, 19.24997, 24.020320899999998, 21.01858, 17.5506, 19.4284706, 20.116970000000002, 20.66682, 19.287860000000002, 19.700779999999998, 18.9261, 21.509510000000002, 25.67507, 17.06542, 19.04334, 20.5880604, 18.514129999999998, 22.149820000000002, 24.79032, 29.1026, 17.98689, 23.74174, 19.31905, 19.53124, 20.97537, 22.76843], \"lon\": [-102.28259279999999, -115.4544601, -110.3005, -90.5255432, -106.08889009999999, -93.11308290000001, -101.0053024, -103.72714, -104.6575623, -101.2591, -99.50578, -99.1276627, -98.73329, -103.39182, -99.65324, -101.18443, -99.23075, -104.89568999999999, -100.31846999999999, -96.72365, -98.20193, -100.38806149999999, -88.30381, -100.97916, -107.38781999999999, -110.97731999999999, -92.93028000000001, -99.14599, -98.19981999999999, -96.91589, -89.61695999999999, -102.58140999999999], \"marker\": {\"color\": \"rgb(255,0,0)\", \"line\": {\"color\": \"rgba(68,68,0)\", \"width\": 3}, \"size\": 2}, \"mode\": \"markers\", \"type\": \"scattergeo\"}, {\"lat\": [20.116970000000002, 19.53124], \"line\": {\"color\": \"blue\", \"width\": 1}, \"lon\": [-98.73329, -96.91589], \"mode\": \"lines\", \"type\": \"scattergeo\"}, {\"lat\": [19.53124, 16.759729399999998], \"line\": {\"color\": \"blue\", \"width\": 1}, \"lon\": [-96.91589, -93.11308290000001], \"mode\": \"lines\", \"type\": \"scattergeo\"}, {\"lat\": [16.759729399999998, 17.98689], \"line\": {\"color\": \"blue\", \"width\": 1}, \"lon\": [-93.11308290000001, -92.93028000000001], \"mode\": \"lines\", \"type\": \"scattergeo\"}, {\"lat\": [17.98689, 19.843860600000003], \"line\": {\"color\": \"blue\", \"width\": 1}, \"lon\": [-92.93028000000001, -90.5255432], \"mode\": \"lines\", \"type\": \"scattergeo\"}, {\"lat\": [19.843860600000003, 18.514129999999998], \"line\": {\"color\": \"blue\", \"width\": 1}, \"lon\": [-90.5255432, -88.30381], \"mode\": \"lines\", \"type\": \"scattergeo\"}, {\"lat\": [18.514129999999998, 20.97537], \"line\": {\"color\": \"blue\", \"width\": 1}, \"lon\": [-88.30381, -89.61695999999999], \"mode\": \"lines\", \"type\": \"scattergeo\"}, {\"lat\": [20.97537, 25.67507], \"line\": {\"color\": \"blue\", \"width\": 1}, \"lon\": [-89.61695999999999, -100.31846999999999], \"mode\": \"lines\", \"type\": \"scattergeo\"}, {\"lat\": [25.67507, 24.79032], \"line\": {\"color\": \"blue\", \"width\": 1}, \"lon\": [-100.31846999999999, -107.38781999999999], \"mode\": \"lines\", \"type\": \"scattergeo\"}, {\"lat\": [24.79032, 24.144370000000002], \"line\": {\"color\": \"blue\", \"width\": 1}, \"lon\": [-107.38781999999999, -110.3005], \"mode\": \"lines\", \"type\": \"scattergeo\"}, {\"lat\": [24.144370000000002, 32.6278114], \"line\": {\"color\": \"blue\", \"width\": 1}, \"lon\": [-110.3005, -115.4544601], \"mode\": \"lines\", \"type\": \"scattergeo\"}, {\"lat\": [32.6278114, 29.1026], \"line\": {\"color\": \"blue\", \"width\": 1}, \"lon\": [-115.4544601, -110.97731999999999], \"mode\": \"lines\", \"type\": \"scattergeo\"}, {\"lat\": [29.1026, 28.635280600000005], \"line\": {\"color\": \"blue\", \"width\": 1}, \"lon\": [-110.97731999999999, -106.08889009999999], \"mode\": \"lines\", \"type\": \"scattergeo\"}, {\"lat\": [28.635280600000005, 22.76843], \"line\": {\"color\": \"blue\", \"width\": 1}, \"lon\": [-106.08889009999999, -102.58140999999999], \"mode\": \"lines\", \"type\": \"scattergeo\"}, {\"lat\": [22.76843, 20.66682], \"line\": {\"color\": \"blue\", \"width\": 1}, \"lon\": [-102.58140999999999, -103.39182], \"mode\": \"lines\", \"type\": \"scattergeo\"}, {\"lat\": [20.66682, 19.24997], \"line\": {\"color\": \"blue\", \"width\": 1}, \"lon\": [-103.39182, -103.72714], \"mode\": \"lines\", \"type\": \"scattergeo\"}, {\"lat\": [19.24997, 22.149820000000002], \"line\": {\"color\": \"blue\", \"width\": 1}, \"lon\": [-103.72714, -100.97916], \"mode\": \"lines\", \"type\": \"scattergeo\"}, {\"lat\": [22.149820000000002, 23.74174], \"line\": {\"color\": \"blue\", \"width\": 1}, \"lon\": [-100.97916, -99.14599], \"mode\": \"lines\", \"type\": \"scattergeo\"}, {\"lat\": [23.74174, 25.423210100000002], \"line\": {\"color\": \"blue\", \"width\": 1}, \"lon\": [-99.14599, -101.0053024], \"mode\": \"lines\", \"type\": \"scattergeo\"}, {\"lat\": [25.423210100000002, 18.9261], \"line\": {\"color\": \"blue\", \"width\": 1}, \"lon\": [-101.0053024, -99.23075], \"mode\": \"lines\", \"type\": \"scattergeo\"}, {\"lat\": [18.9261, 17.5506], \"line\": {\"color\": \"blue\", \"width\": 1}, \"lon\": [-99.23075, -99.50578], \"mode\": \"lines\", \"type\": \"scattergeo\"}, {\"lat\": [17.5506, 19.287860000000002], \"line\": {\"color\": \"blue\", \"width\": 1}, \"lon\": [-99.50578, -99.65324], \"mode\": \"lines\", \"type\": \"scattergeo\"}, {\"lat\": [19.287860000000002, 19.31905], \"line\": {\"color\": \"blue\", \"width\": 1}, \"lon\": [-99.65324, -98.19981999999999], \"mode\": \"lines\", \"type\": \"scattergeo\"}, {\"lat\": [19.31905, 17.06542], \"line\": {\"color\": \"blue\", \"width\": 1}, \"lon\": [-98.19981999999999, -96.72365], \"mode\": \"lines\", \"type\": \"scattergeo\"}, {\"lat\": [17.06542, 19.04334], \"line\": {\"color\": \"blue\", \"width\": 1}, \"lon\": [-96.72365, -98.20193], \"mode\": \"lines\", \"type\": \"scattergeo\"}, {\"lat\": [19.04334, 19.4284706], \"line\": {\"color\": \"blue\", \"width\": 1}, \"lon\": [-98.20193, -99.1276627], \"mode\": \"lines\", \"type\": \"scattergeo\"}, {\"lat\": [19.4284706, 19.700779999999998], \"line\": {\"color\": \"blue\", \"width\": 1}, \"lon\": [-99.1276627, -101.18443], \"mode\": \"lines\", \"type\": \"scattergeo\"}, {\"lat\": [19.700779999999998, 21.8823395], \"line\": {\"color\": \"blue\", \"width\": 1}, \"lon\": [-101.18443, -102.28259279999999], \"mode\": \"lines\", \"type\": \"scattergeo\"}, {\"lat\": [21.8823395, 24.020320899999998], \"line\": {\"color\": \"blue\", \"width\": 1}, \"lon\": [-102.28259279999999, -104.6575623], \"mode\": \"lines\", \"type\": \"scattergeo\"}, {\"lat\": [24.020320899999998, 21.509510000000002], \"line\": {\"color\": \"blue\", \"width\": 1}, \"lon\": [-104.6575623, -104.89568999999999], \"mode\": \"lines\", \"type\": \"scattergeo\"}, {\"lat\": [21.509510000000002, 21.01858], \"line\": {\"color\": \"blue\", \"width\": 1}, \"lon\": [-104.89568999999999, -101.2591], \"mode\": \"lines\", \"type\": \"scattergeo\"}, {\"lat\": [21.01858, 20.5880604], \"line\": {\"color\": \"blue\", \"width\": 1}, \"lon\": [-101.2591, -100.38806149999999], \"mode\": \"lines\", \"type\": \"scattergeo\"}, {\"lat\": [20.5880604, 20.116970000000002], \"line\": {\"color\": \"blue\", \"width\": 1}, \"lon\": [-100.38806149999999, -98.73329], \"mode\": \"lines\", \"type\": \"scattergeo\"}],\n",
              "                        {\"geo\": {\"projection\": {\"type\": \"conic equal area\"}, \"scope\": \"north america\", \"showland\": true}, \"height\": 1400, \"showlegend\": true, \"template\": {\"data\": {\"bar\": [{\"error_x\": {\"color\": \"#2a3f5f\"}, \"error_y\": {\"color\": \"#2a3f5f\"}, \"marker\": {\"line\": {\"color\": \"#E5ECF6\", \"width\": 0.5}}, \"type\": \"bar\"}], \"barpolar\": [{\"marker\": {\"line\": {\"color\": \"#E5ECF6\", \"width\": 0.5}}, \"type\": \"barpolar\"}], \"carpet\": [{\"aaxis\": {\"endlinecolor\": \"#2a3f5f\", \"gridcolor\": \"white\", \"linecolor\": \"white\", \"minorgridcolor\": \"white\", \"startlinecolor\": \"#2a3f5f\"}, \"baxis\": {\"endlinecolor\": \"#2a3f5f\", \"gridcolor\": \"white\", \"linecolor\": \"white\", \"minorgridcolor\": \"white\", \"startlinecolor\": \"#2a3f5f\"}, \"type\": \"carpet\"}], \"choropleth\": [{\"colorbar\": {\"outlinewidth\": 0, \"ticks\": \"\"}, \"type\": \"choropleth\"}], \"contour\": [{\"colorbar\": {\"outlinewidth\": 0, \"ticks\": \"\"}, \"colorscale\": [[0.0, \"#0d0887\"], [0.1111111111111111, \"#46039f\"], [0.2222222222222222, \"#7201a8\"], [0.3333333333333333, \"#9c179e\"], [0.4444444444444444, \"#bd3786\"], [0.5555555555555556, \"#d8576b\"], [0.6666666666666666, \"#ed7953\"], [0.7777777777777778, \"#fb9f3a\"], [0.8888888888888888, \"#fdca26\"], [1.0, \"#f0f921\"]], \"type\": \"contour\"}], \"contourcarpet\": [{\"colorbar\": {\"outlinewidth\": 0, \"ticks\": \"\"}, \"type\": \"contourcarpet\"}], \"heatmap\": [{\"colorbar\": {\"outlinewidth\": 0, \"ticks\": \"\"}, \"colorscale\": [[0.0, \"#0d0887\"], [0.1111111111111111, \"#46039f\"], [0.2222222222222222, \"#7201a8\"], [0.3333333333333333, \"#9c179e\"], [0.4444444444444444, \"#bd3786\"], [0.5555555555555556, \"#d8576b\"], [0.6666666666666666, \"#ed7953\"], [0.7777777777777778, \"#fb9f3a\"], [0.8888888888888888, \"#fdca26\"], [1.0, \"#f0f921\"]], \"type\": \"heatmap\"}], \"heatmapgl\": [{\"colorbar\": {\"outlinewidth\": 0, \"ticks\": \"\"}, \"colorscale\": [[0.0, \"#0d0887\"], [0.1111111111111111, \"#46039f\"], [0.2222222222222222, \"#7201a8\"], [0.3333333333333333, \"#9c179e\"], [0.4444444444444444, \"#bd3786\"], [0.5555555555555556, \"#d8576b\"], [0.6666666666666666, \"#ed7953\"], [0.7777777777777778, \"#fb9f3a\"], [0.8888888888888888, \"#fdca26\"], [1.0, \"#f0f921\"]], \"type\": \"heatmapgl\"}], \"histogram\": [{\"marker\": {\"colorbar\": {\"outlinewidth\": 0, \"ticks\": \"\"}}, \"type\": \"histogram\"}], \"histogram2d\": [{\"colorbar\": {\"outlinewidth\": 0, \"ticks\": \"\"}, \"colorscale\": [[0.0, \"#0d0887\"], [0.1111111111111111, \"#46039f\"], [0.2222222222222222, \"#7201a8\"], [0.3333333333333333, \"#9c179e\"], [0.4444444444444444, \"#bd3786\"], [0.5555555555555556, \"#d8576b\"], [0.6666666666666666, \"#ed7953\"], [0.7777777777777778, \"#fb9f3a\"], [0.8888888888888888, \"#fdca26\"], [1.0, \"#f0f921\"]], \"type\": \"histogram2d\"}], \"histogram2dcontour\": [{\"colorbar\": {\"outlinewidth\": 0, \"ticks\": \"\"}, \"colorscale\": [[0.0, \"#0d0887\"], [0.1111111111111111, \"#46039f\"], [0.2222222222222222, \"#7201a8\"], [0.3333333333333333, \"#9c179e\"], [0.4444444444444444, \"#bd3786\"], [0.5555555555555556, \"#d8576b\"], [0.6666666666666666, \"#ed7953\"], [0.7777777777777778, \"#fb9f3a\"], [0.8888888888888888, \"#fdca26\"], [1.0, \"#f0f921\"]], \"type\": \"histogram2dcontour\"}], \"mesh3d\": [{\"colorbar\": {\"outlinewidth\": 0, \"ticks\": \"\"}, \"type\": \"mesh3d\"}], \"parcoords\": [{\"line\": {\"colorbar\": {\"outlinewidth\": 0, \"ticks\": \"\"}}, \"type\": \"parcoords\"}], \"pie\": [{\"automargin\": true, \"type\": \"pie\"}], \"scatter\": [{\"marker\": {\"colorbar\": {\"outlinewidth\": 0, \"ticks\": \"\"}}, \"type\": \"scatter\"}], \"scatter3d\": [{\"line\": {\"colorbar\": {\"outlinewidth\": 0, \"ticks\": \"\"}}, \"marker\": {\"colorbar\": {\"outlinewidth\": 0, \"ticks\": \"\"}}, \"type\": \"scatter3d\"}], \"scattercarpet\": [{\"marker\": {\"colorbar\": {\"outlinewidth\": 0, \"ticks\": \"\"}}, \"type\": \"scattercarpet\"}], \"scattergeo\": [{\"marker\": {\"colorbar\": {\"outlinewidth\": 0, \"ticks\": \"\"}}, \"type\": \"scattergeo\"}], \"scattergl\": [{\"marker\": {\"colorbar\": {\"outlinewidth\": 0, \"ticks\": \"\"}}, \"type\": \"scattergl\"}], \"scattermapbox\": [{\"marker\": {\"colorbar\": {\"outlinewidth\": 0, \"ticks\": \"\"}}, \"type\": \"scattermapbox\"}], \"scatterpolar\": [{\"marker\": {\"colorbar\": {\"outlinewidth\": 0, \"ticks\": \"\"}}, \"type\": \"scatterpolar\"}], \"scatterpolargl\": [{\"marker\": {\"colorbar\": {\"outlinewidth\": 0, \"ticks\": \"\"}}, \"type\": \"scatterpolargl\"}], \"scatterternary\": [{\"marker\": {\"colorbar\": {\"outlinewidth\": 0, \"ticks\": \"\"}}, \"type\": \"scatterternary\"}], \"surface\": [{\"colorbar\": {\"outlinewidth\": 0, \"ticks\": \"\"}, \"colorscale\": [[0.0, \"#0d0887\"], [0.1111111111111111, \"#46039f\"], [0.2222222222222222, \"#7201a8\"], [0.3333333333333333, \"#9c179e\"], [0.4444444444444444, \"#bd3786\"], [0.5555555555555556, \"#d8576b\"], [0.6666666666666666, \"#ed7953\"], [0.7777777777777778, \"#fb9f3a\"], [0.8888888888888888, \"#fdca26\"], [1.0, \"#f0f921\"]], \"type\": \"surface\"}], \"table\": [{\"cells\": {\"fill\": {\"color\": \"#EBF0F8\"}, \"line\": {\"color\": \"white\"}}, \"header\": {\"fill\": {\"color\": \"#C8D4E3\"}, \"line\": {\"color\": \"white\"}}, \"type\": \"table\"}]}, \"layout\": {\"annotationdefaults\": {\"arrowcolor\": \"#2a3f5f\", \"arrowhead\": 0, \"arrowwidth\": 1}, \"coloraxis\": {\"colorbar\": {\"outlinewidth\": 0, \"ticks\": \"\"}}, \"colorscale\": {\"diverging\": [[0, \"#8e0152\"], [0.1, \"#c51b7d\"], [0.2, \"#de77ae\"], [0.3, \"#f1b6da\"], [0.4, \"#fde0ef\"], [0.5, \"#f7f7f7\"], [0.6, \"#e6f5d0\"], [0.7, \"#b8e186\"], [0.8, \"#7fbc41\"], [0.9, \"#4d9221\"], [1, \"#276419\"]], \"sequential\": [[0.0, \"#0d0887\"], [0.1111111111111111, \"#46039f\"], [0.2222222222222222, \"#7201a8\"], [0.3333333333333333, \"#9c179e\"], [0.4444444444444444, \"#bd3786\"], [0.5555555555555556, \"#d8576b\"], [0.6666666666666666, \"#ed7953\"], [0.7777777777777778, \"#fb9f3a\"], [0.8888888888888888, \"#fdca26\"], [1.0, \"#f0f921\"]], \"sequentialminus\": [[0.0, \"#0d0887\"], [0.1111111111111111, \"#46039f\"], [0.2222222222222222, \"#7201a8\"], [0.3333333333333333, \"#9c179e\"], [0.4444444444444444, \"#bd3786\"], [0.5555555555555556, \"#d8576b\"], [0.6666666666666666, \"#ed7953\"], [0.7777777777777778, \"#fb9f3a\"], [0.8888888888888888, \"#fdca26\"], [1.0, \"#f0f921\"]]}, \"colorway\": [\"#636efa\", \"#EF553B\", \"#00cc96\", \"#ab63fa\", \"#FFA15A\", \"#19d3f3\", \"#FF6692\", \"#B6E880\", \"#FF97FF\", \"#FECB52\"], \"font\": {\"color\": \"#2a3f5f\"}, \"geo\": {\"bgcolor\": \"white\", \"lakecolor\": \"white\", \"landcolor\": \"#E5ECF6\", \"showlakes\": true, \"showland\": true, \"subunitcolor\": \"white\"}, \"hoverlabel\": {\"align\": \"left\"}, \"hovermode\": \"closest\", \"mapbox\": {\"style\": \"light\"}, \"paper_bgcolor\": \"white\", \"plot_bgcolor\": \"#E5ECF6\", \"polar\": {\"angularaxis\": {\"gridcolor\": \"white\", \"linecolor\": \"white\", \"ticks\": \"\"}, \"bgcolor\": \"#E5ECF6\", \"radialaxis\": {\"gridcolor\": \"white\", \"linecolor\": \"white\", \"ticks\": \"\"}}, \"scene\": {\"xaxis\": {\"backgroundcolor\": \"#E5ECF6\", \"gridcolor\": \"white\", \"gridwidth\": 2, \"linecolor\": \"white\", \"showbackground\": true, \"ticks\": \"\", \"zerolinecolor\": \"white\"}, \"yaxis\": {\"backgroundcolor\": \"#E5ECF6\", \"gridcolor\": \"white\", \"gridwidth\": 2, \"linecolor\": \"white\", \"showbackground\": true, \"ticks\": \"\", \"zerolinecolor\": \"white\"}, \"zaxis\": {\"backgroundcolor\": \"#E5ECF6\", \"gridcolor\": \"white\", \"gridwidth\": 2, \"linecolor\": \"white\", \"showbackground\": true, \"ticks\": \"\", \"zerolinecolor\": \"white\"}}, \"shapedefaults\": {\"line\": {\"color\": \"#2a3f5f\"}}, \"ternary\": {\"aaxis\": {\"gridcolor\": \"white\", \"linecolor\": \"white\", \"ticks\": \"\"}, \"baxis\": {\"gridcolor\": \"white\", \"linecolor\": \"white\", \"ticks\": \"\"}, \"bgcolor\": \"#E5ECF6\", \"caxis\": {\"gridcolor\": \"white\", \"linecolor\": \"white\", \"ticks\": \"\"}}, \"title\": {\"x\": 0.05}, \"xaxis\": {\"automargin\": true, \"gridcolor\": \"white\", \"linecolor\": \"white\", \"ticks\": \"\", \"title\": {\"standoff\": 15}, \"zerolinecolor\": \"white\", \"zerolinewidth\": 2}, \"yaxis\": {\"automargin\": true, \"gridcolor\": \"white\", \"linecolor\": \"white\", \"ticks\": \"\", \"title\": {\"standoff\": 15}, \"zerolinecolor\": \"white\", \"zerolinewidth\": 2}}}, \"title\": {\"text\": \"Mejor recorrido\"}, \"width\": 1800},\n",
              "                        {\"responsive\": true}\n",
              "                    ).then(function(){\n",
              "                            \n",
              "var gd = document.getElementById('54537ee9-a8a8-4f43-a2ad-5fddf338637e');\n",
              "var x = new MutationObserver(function (mutations, observer) {{\n",
              "        var display = window.getComputedStyle(gd).display;\n",
              "        if (!display || display === 'none') {{\n",
              "            console.log([gd, 'removed!']);\n",
              "            Plotly.purge(gd);\n",
              "            observer.disconnect();\n",
              "        }}\n",
              "}});\n",
              "\n",
              "// Listen for the removal of the full notebook cells\n",
              "var notebookContainer = gd.closest('#notebook-container');\n",
              "if (notebookContainer) {{\n",
              "    x.observe(notebookContainer, {childList: true});\n",
              "}}\n",
              "\n",
              "// Listen for the clearing of the current output cell\n",
              "var outputEl = gd.closest('.output');\n",
              "if (outputEl) {{\n",
              "    x.observe(outputEl, {childList: true});\n",
              "}}\n",
              "\n",
              "                        })\n",
              "                };\n",
              "                \n",
              "            </script>\n",
              "        </div>\n",
              "</body>\n",
              "</html>"
            ]
          },
          "metadata": {}
        }
      ]
    },
    {
      "cell_type": "markdown",
      "metadata": {
        "id": "YYMGAr2Red1x"
      },
      "source": [
        "Se imprimen los resultados obtenidos junto con la gráfica del proceso evolutivo.\n",
        "\n",
        "En la gráfica se muestran el promedio de aptitud de toda la población (línea azul), la máxima aptitud (línea naranja) y la máxima (línea verde)"
      ]
    },
    {
      "cell_type": "code",
      "metadata": {
        "colab": {
          "base_uri": "https://localhost:8080/",
          "height": 681
        },
        "id": "ijUixvYvUMwx",
        "outputId": "af583885-e919-4f1d-ff34-c6c746089f40"
      },
      "source": [
        "print(\"Mejor individuo es: %s\\n%s\\ncon aptitud de : %s\" % (mejor[0],recorrido_nombres, mejor[0].fitness))\n",
        "    \n",
        "import matplotlib.pyplot as plt\n",
        "gen, avg, min_, max_ = estadisticas.select(\"gen\", \"avg\", \"min\", \"max\")\n",
        "plt.plot(gen, avg, label=\"average\")\n",
        "plt.plot(gen, min_, label=\"minimum\")\n",
        "plt.plot(gen, max_, label=\"maximum\")\n",
        "plt.xlabel(\"Generation\")\n",
        "plt.ylabel(\"Fitness\")\n",
        "plt.legend(loc=\"upper right\")\n",
        "\n",
        "\n",
        "plt.rcParams[\"figure.figsize\"] = (10,10)\n",
        "plt.show()\n"
      ],
      "execution_count": 35,
      "outputs": [
        {
          "output_type": "stream",
          "name": "stdout",
          "text": [
            "Mejor individuo es: Individual('i', [12, 29, 5, 26, 3, 22, 30, 18, 24, 2, 1, 25, 4, 31, 13, 7, 23, 27, 6, 16, 10, 14, 28, 19, 20, 11, 15, 0, 8, 17, 9, 21])\n",
            "['pachuca', 'xalapa', 'tuxtlaGtz', 'villahermosa', 'campeche', 'chetumal', 'merida', 'monterrey', 'culiacan', 'lapaz', 'mexicalli', 'hermosillo', 'chihuahua', 'zacatecas', 'guadalajara', 'colima', 'Sanluis', 'cuidadvictoria', 'Saltillo', 'cuernavaca', 'chilpancingo', 'toluca', 'tlaxcala', 'oaxaca', 'puebla', 'cdmx', 'morelia', 'aguascalientes', 'victoriaDurango', 'tepic', 'guanajuato', 'queretaro', 'pachuca']\n",
            "con aptitud de : (112.17549689122224,)\n"
          ]
        },
        {
          "output_type": "display_data",
          "data": {
            "image/png": "[encoded data removed]",
            "text/plain": [
              "<Figure size 720x720 with 1 Axes>"
            ]
          },
          "metadata": {
            "needs_background": "light"
          }
        }
      ]
    }
  ]
}