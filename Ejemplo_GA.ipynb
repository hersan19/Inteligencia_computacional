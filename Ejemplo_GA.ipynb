{
  "nbformat": 4,
  "nbformat_minor": 0,
  "metadata": {
    "colab": {
      "name": "Ejemplo_GA.ipynb",
      "provenance": [],
      "toc_visible": true,
      "include_colab_link": true
    },
    "kernelspec": {
      "name": "python3",
      "display_name": "Python 3"
    },
    "language_info": {
      "name": "python"
    }
  },
  "cells": [
    {
      "cell_type": "markdown",
      "metadata": {
        "id": "view-in-github",
        "colab_type": "text"
      },
      "source": [
        "<a href=\"https://colab.research.google.com/github/hersan19/Inteligencia_computacional/blob/main/Ejemplo_GA.ipynb\" target=\"_parent\"><img src=\"https://colab.research.google.com/assets/colab-badge.svg\" alt=\"Open In Colab\"/></a>"
      ]
    },
    {
      "cell_type": "markdown",
      "metadata": {
        "id": "1N-RFNjvFZWv"
      },
      "source": [
        "# Ejemplo algoritmo genético para la solución del problema del viajero\n",
        "\n",
        "Se instala la biblioteca DEAP (Distributed Evolutionary Algorithms in Python).\n",
        "\n",
        "Para más información acerca de la biblioteca consultar la documentación en el siguiente link.\n",
        "\n",
        "https://deap.readthedocs.io/en/master/index.html\n"
      ]
    },
    {
      "cell_type": "code",
      "metadata": {
        "colab": {
          "base_uri": "https://localhost:8080/"
        },
        "id": "UlZccedmogW5",
        "outputId": "e94bda62-282a-4ab3-d4a5-ffd4f93feed3"
      },
      "source": [
        "pip install deap"
      ],
      "execution_count": 1,
      "outputs": [
        {
          "output_type": "stream",
          "name": "stdout",
          "text": [
            "Collecting deap\n",
            "  Downloading deap-1.3.1-cp37-cp37m-manylinux_2_5_x86_64.manylinux1_x86_64.manylinux_2_12_x86_64.manylinux2010_x86_64.whl (160 kB)\n",
            "\u001b[?25l\r\u001b[K     |██                              | 10 kB 14.9 MB/s eta 0:00:01\r\u001b[K     |████                            | 20 kB 17.3 MB/s eta 0:00:01\r\u001b[K     |██████                          | 30 kB 17.0 MB/s eta 0:00:01\r\u001b[K     |████████▏                       | 40 kB 19.1 MB/s eta 0:00:01\r\u001b[K     |██████████▏                     | 51 kB 19.5 MB/s eta 0:00:01\r\u001b[K     |████████████▏                   | 61 kB 20.4 MB/s eta 0:00:01\r\u001b[K     |██████████████▎                 | 71 kB 20.0 MB/s eta 0:00:01\r\u001b[K     |████████████████▎               | 81 kB 21.1 MB/s eta 0:00:01\r\u001b[K     |██████████████████▎             | 92 kB 22.4 MB/s eta 0:00:01\r\u001b[K     |████████████████████▍           | 102 kB 19.2 MB/s eta 0:00:01\r\u001b[K     |██████████████████████▍         | 112 kB 19.2 MB/s eta 0:00:01\r\u001b[K     |████████████████████████▍       | 122 kB 19.2 MB/s eta 0:00:01\r\u001b[K     |██████████████████████████▌     | 133 kB 19.2 MB/s eta 0:00:01\r\u001b[K     |████████████████████████████▌   | 143 kB 19.2 MB/s eta 0:00:01\r\u001b[K     |██████████████████████████████▌ | 153 kB 19.2 MB/s eta 0:00:01\r\u001b[K     |████████████████████████████████| 160 kB 19.2 MB/s \n",
            "\u001b[?25hRequirement already satisfied: numpy in /usr/local/lib/python3.7/dist-packages (from deap) (1.19.5)\n",
            "Installing collected packages: deap\n",
            "Successfully installed deap-1.3.1\n"
          ]
        }
      ]
    },
    {
      "cell_type": "markdown",
      "metadata": {
        "id": "LMCwTsSZGXlF"
      },
      "source": [
        "Se importan las bibliotecas que se utilizarán para este ejemplo"
      ]
    },
    {
      "cell_type": "code",
      "metadata": {
        "id": "VBeLPF7p1Mqu"
      },
      "source": [
        "import array\n",
        "import random\n",
        "import json\n",
        "import numpy\n",
        "from deap import algorithms,base,creator,tools\n",
        "import pandas as pd\n",
        "import numpy as np"
      ],
      "execution_count": 2,
      "outputs": []
    },
    {
      "cell_type": "markdown",
      "metadata": {
        "id": "cm6I0QFeGnOy"
      },
      "source": [
        "# **Funciones**\n",
        "\n",
        "Para la solución del problema se implementa la función \"Euclidian\", la cual realiza el cálculo de la distancia entre dos puntos.\n",
        "\n",
        "Especificamente, se realiza el cáluclo de la distancia euclidiana entre dos coordenadas geográficas."
      ]
    },
    {
      "cell_type": "code",
      "metadata": {
        "id": "M9ZWXmGmGmkr"
      },
      "source": [
        "import math\n",
        "def Euclidian(X, Y):\n",
        "    return math.sqrt( (float(X[1])-float(Y[1]))**2 + (float(X[0])-float(Y[0]))**2)\n",
        "    \n"
      ],
      "execution_count": 3,
      "outputs": []
    },
    {
      "cell_type": "markdown",
      "metadata": {
        "id": "Nrp_oh2cH331"
      },
      "source": [
        "Se implementa la función \"Distances\".\n",
        "\n",
        "Esta función realiza el cálculo de la distancia total de un ciurcuito al pasar por todas las capitales. \n",
        "Es decir, se obtiene el costo total de cada uno de los circuitos o posibles soluciones. "
      ]
    },
    {
      "cell_type": "code",
      "metadata": {
        "id": "fd5nJOdYH3S9"
      },
      "source": [
        "def Distances(cities):\n",
        "    r= len(cities)\n",
        "    M=np.zeros((r,r))\n",
        "    for i in range(r-1):\n",
        "        for j in range(i+1, r):\n",
        "            M[i][j] = Euclidian(cities[i], cities[j])\n",
        "            M[j][i]= M[i][j]\n",
        "    return M"
      ],
      "execution_count": 4,
      "outputs": []
    },
    {
      "cell_type": "markdown",
      "metadata": {
        "id": "OA7sMcLQHgSa"
      },
      "source": [
        "Se obtienen las coordenadas geográficas de las capitales de cada uno de los estados de la república mexicana.\n",
        "\n",
        "Cada ciudad cuenta con los valores de \"latitud\" y \"longitud\""
      ]
    },
    {
      "cell_type": "code",
      "metadata": {
        "id": "nVXw_0uGHc_I"
      },
      "source": [
        "url=\"https://raw.githubusercontent.com/hersan19/EMC_2021/main/ciudades.csv?token=AMUQEUUNCZHPLVM2N6WHX5DBBKZ4S\"\n",
        "df_ciudades=pd.read_csv(url)\n",
        "datas = list(zip(list(df_ciudades.latitud), list(df_ciudades.longitud)))"
      ],
      "execution_count": 5,
      "outputs": []
    },
    {
      "cell_type": "markdown",
      "metadata": {
        "id": "eq_GlbBj-Uk5"
      },
      "source": [
        "Creación de diccionario para relacionar el indice con el nombre de la ciudad"
      ]
    },
    {
      "cell_type": "code",
      "metadata": {
        "id": "TZzcQ1bSYXQf"
      },
      "source": [
        "diccionario=df_ciudades[\"ciudad\"]\n",
        "diccionario=diccionario.to_dict()\n"
      ],
      "execution_count": 12,
      "outputs": []
    },
    {
      "cell_type": "markdown",
      "metadata": {
        "id": "ERx79GNnIWJg"
      },
      "source": [
        "# Configuración inicial de DEAP\n",
        "\n",
        "Se implementa el algoritmo completo utilizando la biblioteca DEAP, la cual permite utilizar una representación para la solución del problema.\n",
        "\n",
        "La representación es la siguiente:\n",
        "\n",
        "[2, 7, 8, 1, 3, 9, 4, 5, 6, 0]"
      ]
    },
    {
      "cell_type": "code",
      "metadata": {
        "id": "SP1dmVGVskm0"
      },
      "source": [
        "# Asignaciones de las distancias\n",
        "distance_map =Distances(datas)\n",
        "IND_SIZE = len(datas) # Número de ciudades a recorrer\n",
        "\n",
        "# Se crea la clase \"Individual\" usando \"creator\" como herramienta. \n",
        "# La clase \"Individual\" es una arreglo y tiene como atributo \"FitnessMin\" el cual será su aptitud.\n",
        "creator.create(\"FitnessMin\", base.Fitness, weights=(-1.0,)) # El parámetro \"weights=-1.0\" establece que es una minimización \n",
        "creator.create(\"Individual\", array.array, typecode='i', fitness=creator.FitnessMin)\n",
        "# Caja de herramientas para inicializar los individuos\n",
        "\n",
        "# Toolbox.register crea un alias para una función.\n",
        "toolbox = base.Toolbox()\n",
        "\n",
        "# Generador de circuitos.\n",
        "toolbox.register(\"indices\", random.sample, range(IND_SIZE), IND_SIZE)  \n",
        "# El individuo llamado \"individual\", toma las características de aptitud.\n",
        "toolbox.register(\"individual\", tools.initIterate, creator.Individual, toolbox.indices) \n",
        "# La población es el conjunto de \"n\" individuos.\n",
        "toolbox.register(\"population\", tools.initRepeat, list, toolbox.individual)\n",
        "\n",
        "# Se declara la función encargada de evaluar los individuos.\n",
        "def evalTSP(individual):\n",
        "    distance = distance_map[individual[-1]][individual[0]]\n",
        "    for gene1, gene2 in zip(individual[0:-1], individual[1:]):\n",
        "        distance += distance_map[gene1][gene2]\n",
        "    return distance,\n",
        "\n",
        "# Se configuran los parámetros de cruza, mutación, el método de selección y se agrega al toolbox la función encaraga de evaluar a la población.\n",
        "toolbox.register(\"mate\", tools.cxPartialyMatched)\n",
        "toolbox.register(\"mutate\", tools.mutShuffleIndexes, indpb=0.05)\n",
        "toolbox.register(\"select\", tools.selTournament, tournsize=3)\n",
        "toolbox.register(\"evaluate\", evalTSP)\n",
        "\n",
        "\n"
      ],
      "execution_count": 7,
      "outputs": []
    },
    {
      "cell_type": "markdown",
      "metadata": {
        "id": "Jh-kbdxTo1uE"
      },
      "source": [
        "# Algoritmo general\n",
        "Se definen los parámetros para el algoritmo genético, así como se agregan elementos al toolbox para guardar las estadísticas del proceso de búsqueda."
      ]
    },
    {
      "cell_type": "code",
      "metadata": {
        "id": "fLV1MRl3nqDU"
      },
      "source": [
        "def main(): # algoritmo principal\n",
        "    #random.seed(0)\n",
        "    # Parámetros del algoritmo genético\n",
        "    numero_individuos=100\n",
        "    p_cruza=0.8\n",
        "    p_mutacion=0.5\n",
        "    generaciones=100\n",
        "    # Creación de la población\n",
        "    pop = toolbox.population(n=numero_individuos)\n",
        "    # hof (Hall Of Fame) se guarda el mejor individuo que siempre ha existido durante todo el proceso evolutivo\n",
        "    hof = tools.HallOfFame(1)\n",
        "    # Se agrega \"tools.Statistics\" para guardar las estadísticas de las aptitudes del proceso evolutivo\n",
        "    stats = tools.Statistics(lambda ind: ind.fitness.values)\n",
        "    stats.register(\"avg\", numpy.mean)\n",
        "    stats.register(\"std\", numpy.std)\n",
        "    stats.register(\"min\", numpy.min)\n",
        "    stats.register(\"max\", numpy.max)\n",
        "    # Se configura el algoritmo evolutivo\n",
        "    pop,log=algorithms.eaSimple(pop, toolbox, p_cruza, p_mutacion, generaciones, stats=stats, \n",
        "                        halloffame=hof,verbose=True)\n",
        "    \n",
        "    return pop, log,hof"
      ],
      "execution_count": 8,
      "outputs": []
    },
    {
      "cell_type": "code",
      "metadata": {
        "colab": {
          "base_uri": "https://localhost:8080/"
        },
        "id": "qPgIHZcC5hBf",
        "outputId": "b23d42bb-ef99-4813-ba3f-cdc7ac1501c4"
      },
      "source": [
        "pop,estadisticas,mejor=main()"
      ],
      "execution_count": 9,
      "outputs": [
        {
          "output_type": "stream",
          "name": "stdout",
          "text": [
            "gen\tnevals\tavg    \tstd    \tmin    \tmax    \n",
            "0  \t100   \t264.098\t17.2392\t218.657\t309.008\n",
            "1  \t83    \t254.786\t18.5676\t196.912\t299.837\n",
            "2  \t88    \t249.595\t21.0081\t196.912\t290.156\n",
            "3  \t86    \t244.006\t20.7618\t196.912\t292.247\n",
            "4  \t91    \t240.787\t21.7228\t193.215\t287.569\n",
            "5  \t92    \t238.353\t20.6297\t184.568\t291.379\n",
            "6  \t92    \t236.254\t20.7551\t184.659\t282.158\n",
            "7  \t90    \t238.699\t24.4914\t197.416\t313.568\n",
            "8  \t91    \t236.502\t21.6646\t183.898\t288.972\n",
            "9  \t94    \t240.461\t21.8006\t193.637\t297.09 \n",
            "10 \t90    \t237.445\t22.237 \t170.722\t293.919\n",
            "11 \t89    \t235.923\t23.5817\t170.722\t288.478\n",
            "12 \t87    \t233.659\t23.0363\t177.079\t310.186\n",
            "13 \t93    \t231.535\t22.5804\t177.079\t277.015\n",
            "14 \t93    \t229.933\t25.654 \t174.609\t295.164\n",
            "15 \t95    \t225.066\t20.5884\t170.391\t285.352\n",
            "16 \t92    \t224.107\t25.1352\t162.587\t294.943\n",
            "17 \t83    \t223.932\t24.3762\t162.587\t278.938\n",
            "18 \t90    \t224.293\t22.3051\t162.587\t284.04 \n",
            "19 \t89    \t220.804\t22.3967\t162.587\t274.816\n",
            "20 \t94    \t219.066\t23.7771\t162.587\t279.301\n",
            "21 \t91    \t221.261\t25.8772\t164.995\t282.907\n",
            "22 \t93    \t218.141\t22.0349\t172.146\t266.765\n",
            "23 \t91    \t218.199\t23.1262\t175.127\t298.303\n",
            "24 \t92    \t217.608\t22.3844\t175.365\t281.965\n",
            "25 \t85    \t212.567\t21.1664\t174.437\t275.053\n",
            "26 \t91    \t215.793\t22.7676\t175.423\t275.288\n",
            "27 \t91    \t217.422\t22.3499\t177.128\t267.091\n",
            "28 \t96    \t215.484\t22.2613\t159.934\t272.792\n",
            "29 \t90    \t220.344\t26.1954\t160.26 \t298.091\n",
            "30 \t91    \t216.021\t24.911 \t160.26 \t274.802\n",
            "31 \t91    \t214.874\t25.7234\t160.26 \t286.452\n",
            "32 \t92    \t216.241\t26.4138\t159.916\t280.678\n",
            "33 \t91    \t212.46 \t29.4252\t158.915\t280.783\n",
            "34 \t88    \t212.08 \t27.4025\t159.916\t271.374\n",
            "35 \t87    \t208.32 \t26.379 \t156.109\t268.106\n",
            "36 \t89    \t200.384\t24.4657\t145.86 \t265.703\n",
            "37 \t89    \t196.962\t25.4768\t145.86 \t274.322\n",
            "38 \t94    \t199.725\t26.1764\t155.971\t280.314\n",
            "39 \t94    \t204.419\t28.4531\t155.971\t285.883\n",
            "40 \t88    \t203.903\t25.9686\t155.971\t281.015\n",
            "41 \t87    \t198.287\t23.5542\t145.375\t273.467\n",
            "42 \t94    \t198.358\t25.1399\t148.925\t268.782\n",
            "43 \t89    \t195.336\t26.8658\t140.777\t274.816\n",
            "44 \t93    \t194.004\t30.8578\t140.777\t277.739\n",
            "45 \t88    \t188.206\t29.4497\t140.777\t286.273\n",
            "46 \t94    \t180.094\t24.3462\t147.419\t243.728\n",
            "47 \t94    \t173.994\t19.8408\t140.748\t249.933\n",
            "48 \t93    \t175.868\t21.6058\t137.763\t243.54 \n",
            "49 \t92    \t173.149\t19.6066\t137.763\t228.161\n",
            "50 \t89    \t173.818\t23.1903\t140.476\t256.618\n",
            "51 \t87    \t173.38 \t24.7431\t143.182\t267.588\n",
            "52 \t94    \t175.482\t25.1235\t140.975\t248.193\n",
            "53 \t90    \t171.128\t23.0971\t139.87 \t247.496\n",
            "54 \t94    \t167.58 \t20.1876\t139.605\t228.377\n",
            "55 \t87    \t171.696\t24.9814\t131.476\t251.927\n",
            "56 \t92    \t170.803\t23.1194\t132.881\t239.189\n",
            "57 \t87    \t169.32 \t22.5075\t132.881\t239.06 \n",
            "58 \t93    \t166.212\t18.8177\t132.881\t230.251\n",
            "59 \t97    \t170.958\t23.5228\t132.115\t260.237\n",
            "60 \t92    \t170.393\t23.0148\t132.22 \t241.57 \n",
            "61 \t89    \t166.057\t19.581 \t132.22 \t231.978\n",
            "62 \t91    \t166.321\t19.9453\t132.22 \t224.411\n",
            "63 \t92    \t168.601\t18.9394\t139.428\t234.29 \n",
            "64 \t87    \t167.41 \t20.0437\t136.76 \t244.524\n",
            "65 \t92    \t165.985\t21.878 \t135.923\t232.113\n",
            "66 \t94    \t164.292\t20.5282\t133.018\t251.953\n",
            "67 \t81    \t160.859\t20.3148\t134.889\t238.989\n",
            "68 \t93    \t160.473\t21.7222\t134.428\t235.041\n",
            "69 \t90    \t160.041\t21.269 \t133.855\t240.237\n",
            "70 \t94    \t160.358\t22.1465\t125.993\t250.085\n",
            "71 \t89    \t162.902\t23.7663\t125.993\t255.86 \n",
            "72 \t97    \t163.52 \t22.5217\t123.664\t226.108\n",
            "73 \t95    \t160.641\t24.3401\t125.993\t233.293\n",
            "74 \t93    \t161.541\t21.167 \t125.993\t240.936\n",
            "75 \t89    \t158.897\t17.7257\t125.993\t212.375\n",
            "76 \t92    \t163.278\t22.2787\t124.598\t224.237\n",
            "77 \t88    \t162.807\t23.3603\t124.598\t241.81 \n",
            "78 \t87    \t164.073\t22.2883\t124.598\t223.78 \n",
            "79 \t85    \t160.44 \t27.5069\t124.598\t255.827\n",
            "80 \t91    \t156.816\t26.0306\t124.598\t243.223\n",
            "81 \t93    \t153.854\t21.9536\t123.234\t226.622\n",
            "82 \t84    \t150.121\t23.1081\t122.871\t223.199\n",
            "83 \t90    \t147.519\t21.636 \t120.274\t233.101\n",
            "84 \t91    \t146.404\t23.188 \t121.633\t247.393\n",
            "85 \t88    \t143.835\t22.0039\t121.022\t217.715\n",
            "86 \t88    \t144.239\t24.1518\t117.309\t228.963\n",
            "87 \t93    \t141.639\t24.9176\t117.309\t235.665\n",
            "88 \t85    \t139.383\t21.5247\t115.974\t226.127\n",
            "89 \t88    \t139.239\t22.9018\t115.713\t227.732\n",
            "90 \t87    \t136.992\t23.6305\t115.713\t251.426\n",
            "91 \t85    \t133.716\t19.2714\t115.299\t221.82 \n",
            "92 \t91    \t134.786\t21.6772\t114.653\t249.377\n",
            "93 \t94    \t135.2  \t22.1348\t115.486\t216.333\n",
            "94 \t88    \t133.183\t19.367 \t115.139\t211.998\n",
            "95 \t93    \t135.737\t19.9952\t113.835\t194.808\n",
            "96 \t87    \t132.874\t21.479 \t113.835\t210.915\n",
            "97 \t92    \t135.697\t25.8377\t112.383\t273.097\n",
            "98 \t91    \t133.645\t23.1679\t112.231\t261.351\n",
            "99 \t89    \t137.599\t26.4279\t111.923\t226.239\n",
            "100\t85    \t130.947\t20.2949\t111.923\t206.312\n"
          ]
        }
      ]
    },
    {
      "cell_type": "markdown",
      "metadata": {
        "id": "SKF5RUl5cRBd"
      },
      "source": [
        "Se obtiene el mejor individuo que se encontró en el proceso de búsqueda"
      ]
    },
    {
      "cell_type": "code",
      "metadata": {
        "colab": {
          "base_uri": "https://localhost:8080/"
        },
        "id": "OMd8gTfzbZYy",
        "outputId": "84829681-b7e3-49b1-ee1c-2b9dbb308f3e"
      },
      "source": [
        "mejor[0]\n"
      ],
      "execution_count": 10,
      "outputs": [
        {
          "output_type": "execute_result",
          "data": {
            "text/plain": [
              "Individual('i', [22, 30, 26, 5, 10, 27, 24, 2, 1, 25, 4, 7, 13, 0, 23, 21, 12, 28, 20, 14, 16, 11, 31, 6, 18, 8, 17, 15, 9, 29, 19, 3])"
            ]
          },
          "metadata": {},
          "execution_count": 10
        }
      ]
    },
    {
      "cell_type": "markdown",
      "metadata": {
        "id": "3UgWCtuldL_I"
      },
      "source": [
        "Se realiza la decodificación del mejor individuo mediante el uso del diccionario previamente definido. \n",
        "\n",
        "De esta manera se obtienen los nombres de cada una de las capitales del mejor recorrido encontrado."
      ]
    },
    {
      "cell_type": "code",
      "metadata": {
        "id": "z5v8610mJVzG",
        "colab": {
          "base_uri": "https://localhost:8080/"
        },
        "outputId": "b3a4f2ba-b716-49df-b049-85f46cf4c5cf"
      },
      "source": [
        "recorrido_nombres=[]\n",
        "aux=0\n",
        "for ciudad in mejor[0]:  \n",
        "  recorrido_nombres.append(diccionario.get(ciudad,ciudad))\n",
        "recorrido_nombres.append(diccionario.get(mejor[0][0]))\n",
        "recorrido_nombres"
      ],
      "execution_count": 13,
      "outputs": [
        {
          "output_type": "execute_result",
          "data": {
            "text/plain": [
              "['chetumal',\n",
              " 'merida',\n",
              " 'villahermosa',\n",
              " 'tuxtlaGtz',\n",
              " 'chilpancingo',\n",
              " 'cuidadvictoria',\n",
              " 'culiacan',\n",
              " 'lapaz',\n",
              " 'mexicalli',\n",
              " 'hermosillo',\n",
              " 'chihuahua',\n",
              " 'colima',\n",
              " 'guadalajara',\n",
              " 'aguascalientes',\n",
              " 'Sanluis',\n",
              " 'queretaro',\n",
              " 'pachuca',\n",
              " 'tlaxcala',\n",
              " 'puebla',\n",
              " 'toluca',\n",
              " 'cuernavaca',\n",
              " 'cdmx',\n",
              " 'zacatecas',\n",
              " 'Saltillo',\n",
              " 'monterrey',\n",
              " 'victoriaDurango',\n",
              " 'tepic',\n",
              " 'morelia',\n",
              " 'guanajuato',\n",
              " 'xalapa',\n",
              " 'oaxaca',\n",
              " 'campeche',\n",
              " 'chetumal']"
            ]
          },
          "metadata": {},
          "execution_count": 13
        }
      ]
    },
    {
      "cell_type": "markdown",
      "metadata": {
        "id": "m_uEMZCjJVoo"
      },
      "source": [
        "En este apartado se decodifica el mejor individuo en términos de las coordenadas geograficas de cada una de las capitales, con el fin de obtener colocarlas en el mapa."
      ]
    },
    {
      "cell_type": "code",
      "metadata": {
        "id": "L7YdYLeT8IMg"
      },
      "source": [
        "recorrido=[]\n",
        "for i in range(32):\n",
        "  latitud=df_ciudades.iloc[mejor[0][i]][\"latitud\"]\n",
        "  longitud=df_ciudades.iloc[mejor[0][i]][\"longitud\"]\n",
        "  recorrido.append((latitud,longitud))"
      ],
      "execution_count": 14,
      "outputs": []
    },
    {
      "cell_type": "code",
      "metadata": {
        "colab": {
          "base_uri": "https://localhost:8080/",
          "height": 1000
        },
        "id": "EhvYqF-s6PRA",
        "outputId": "ea9b1bd8-8a17-429e-cf8e-a6fc11e401ac"
      },
      "source": [
        "import plotly.express as px\n",
        "import plotly.graph_objects as go\n",
        "\n",
        "fig=go.Figure()\n",
        "# Se agregan los puntos que representan la ubicación de las capitales\n",
        "fig.add_trace(go.Scattergeo(\n",
        "    #locations = [\"Mexico\"],\n",
        "    #locationmode = 'country names',\n",
        "    lon=df_ciudades[\"longitud\"],\n",
        "    lat=df_ciudades[\"latitud\"],\n",
        "    hoverinfo=\"text\",\n",
        "    hovertext=df_ciudades[\"ciudad\"],\n",
        "    #text=df_ciudades[\"ciudad\"],\n",
        "    mode=\"markers\",\n",
        "    marker = dict(size=2,color='rgb(255,0,0)',line=dict(width=3,color='rgba(68,68,0)'))))\n",
        "\n",
        "# Ciclo para realizar la unión de los puntos de acuerdo con el mejor individuo \n",
        "for i in range(31):\n",
        "  fig.add_trace(go.Scattergeo(\n",
        "      lat=[recorrido[i][0],recorrido[i+1][0]],\n",
        "      lon=[recorrido[i][1],recorrido[i+1][1]],\n",
        "      mode=\"lines\",\n",
        "      line=dict(width=1,color=\"blue\"),\n",
        "  ))\n",
        "fig.add_trace(go.Scattergeo(\n",
        "    lat=[recorrido[-1][0],recorrido[0][0]],\n",
        "    lon=[recorrido[-1][1],recorrido[0][1]],\n",
        "    mode=\"lines\",\n",
        "    line=dict(width=1,color=\"blue\"),\n",
        "  ))\n",
        "\n",
        "fig.update_layout(title_text=\"Mejor recorrido\",showlegend=True,\n",
        "                  geo =dict(\n",
        "                      #showcountries=True,\n",
        "                      scope=\"north america\",\n",
        "                      projection_type ='conic equal area',                      \n",
        "                      showland = True,\n",
        "                      #landcolor='rgb(243,243,243)',\n",
        "                      #countrycolor='rgb(204,204,204)',\n",
        "                  ), width=1800, height=1400)\n",
        "fig.show()"
      ],
      "execution_count": 19,
      "outputs": [
        {
          "output_type": "display_data",
          "data": {
            "text/html": [
              "<html>\n",
              "<head><meta charset=\"utf-8\" /></head>\n",
              "<body>\n",
              "    <div>\n",
              "            <script src=\"https://cdnjs.cloudflare.com/ajax/libs/mathjax/2.7.5/MathJax.js?config=TeX-AMS-MML_SVG\"></script><script type=\"text/javascript\">if (window.MathJax) {MathJax.Hub.Config({SVG: {font: \"STIX-Web\"}});}</script>\n",
              "                <script type=\"text/javascript\">window.PlotlyConfig = {MathJaxConfig: 'local'};</script>\n",
              "        <script src=\"https://cdn.plot.ly/plotly-latest.min.js\"></script>    \n",
              "            <div id=\"a3f311c7-40f1-476d-b60d-36bfffa54c3a\" class=\"plotly-graph-div\" style=\"height:1400px; width:1800px;\"></div>\n",
              "            <script type=\"text/javascript\">\n",
              "                \n",
              "                    window.PLOTLYENV=window.PLOTLYENV || {};\n",
              "                    \n",
              "                if (document.getElementById(\"a3f311c7-40f1-476d-b60d-36bfffa54c3a\")) {\n",
              "                    Plotly.newPlot(\n",
              "                        'a3f311c7-40f1-476d-b60d-36bfffa54c3a',\n",
              "                        [{\"hoverinfo\": \"text\", \"hovertext\": [\"aguascalientes\", \"mexicalli\", \"lapaz\", \"campeche\", \"chihuahua\", \"tuxtlaGtz\", \"Saltillo\", \"colima\", \"victoriaDurango\", \"guanajuato\", \"chilpancingo\", \"cdmx\", \"pachuca\", \"guadalajara\", \"toluca\", \"morelia\", \"cuernavaca\", \"tepic\", \"monterrey\", \"oaxaca\", \"puebla\", \"queretaro\", \"chetumal\", \"Sanluis\", \"culiacan\", \"hermosillo\", \"villahermosa\", \"cuidadvictoria\", \"tlaxcala\", \"xalapa\", \"merida\", \"zacatecas\"], \"lat\": [21.8823395, 32.6278114, 24.144370000000002, 19.843860600000003, 28.635280600000005, 16.759729399999998, 25.423210100000002, 19.24997, 24.020320899999998, 21.01858, 17.5506, 19.4284706, 20.116970000000002, 20.66682, 19.287860000000002, 19.700779999999998, 18.9261, 21.509510000000002, 25.67507, 17.06542, 19.04334, 20.5880604, 18.514129999999998, 22.149820000000002, 24.79032, 29.1026, 17.98689, 23.74174, 19.31905, 19.53124, 20.97537, 22.76843], \"lon\": [-102.28259279999999, -115.4544601, -110.3005, -90.5255432, -106.08889009999999, -93.11308290000001, -101.0053024, -103.72714, -104.6575623, -101.2591, -99.50578, -99.1276627, -98.73329, -103.39182, -99.65324, -101.18443, -99.23075, -104.89568999999999, -100.31846999999999, -96.72365, -98.20193, -100.38806149999999, -88.30381, -100.97916, -107.38781999999999, -110.97731999999999, -92.93028000000001, -99.14599, -98.19981999999999, -96.91589, -89.61695999999999, -102.58140999999999], \"marker\": {\"color\": \"rgb(255,0,0)\", \"line\": {\"color\": \"rgba(68,68,0)\", \"width\": 3}, \"size\": 2}, \"mode\": \"markers\", \"type\": \"scattergeo\"}, {\"lat\": [18.514129999999998, 20.97537], \"line\": {\"color\": \"blue\", \"width\": 1}, \"lon\": [-88.30381, -89.61695999999999], \"mode\": \"lines\", \"type\": \"scattergeo\"}, {\"lat\": [20.97537, 17.98689], \"line\": {\"color\": \"blue\", \"width\": 1}, \"lon\": [-89.61695999999999, -92.93028000000001], \"mode\": \"lines\", \"type\": \"scattergeo\"}, {\"lat\": [17.98689, 16.759729399999998], \"line\": {\"color\": \"blue\", \"width\": 1}, \"lon\": [-92.93028000000001, -93.11308290000001], \"mode\": \"lines\", \"type\": \"scattergeo\"}, {\"lat\": [16.759729399999998, 17.5506], \"line\": {\"color\": \"blue\", \"width\": 1}, \"lon\": [-93.11308290000001, -99.50578], \"mode\": \"lines\", \"type\": \"scattergeo\"}, {\"lat\": [17.5506, 23.74174], \"line\": {\"color\": \"blue\", \"width\": 1}, \"lon\": [-99.50578, -99.14599], \"mode\": \"lines\", \"type\": \"scattergeo\"}, {\"lat\": [23.74174, 24.79032], \"line\": {\"color\": \"blue\", \"width\": 1}, \"lon\": [-99.14599, -107.38781999999999], \"mode\": \"lines\", \"type\": \"scattergeo\"}, {\"lat\": [24.79032, 24.144370000000002], \"line\": {\"color\": \"blue\", \"width\": 1}, \"lon\": [-107.38781999999999, -110.3005], \"mode\": \"lines\", \"type\": \"scattergeo\"}, {\"lat\": [24.144370000000002, 32.6278114], \"line\": {\"color\": \"blue\", \"width\": 1}, \"lon\": [-110.3005, -115.4544601], \"mode\": \"lines\", \"type\": \"scattergeo\"}, {\"lat\": [32.6278114, 29.1026], \"line\": {\"color\": \"blue\", \"width\": 1}, \"lon\": [-115.4544601, -110.97731999999999], \"mode\": \"lines\", \"type\": \"scattergeo\"}, {\"lat\": [29.1026, 28.635280600000005], \"line\": {\"color\": \"blue\", \"width\": 1}, \"lon\": [-110.97731999999999, -106.08889009999999], \"mode\": \"lines\", \"type\": \"scattergeo\"}, {\"lat\": [28.635280600000005, 19.24997], \"line\": {\"color\": \"blue\", \"width\": 1}, \"lon\": [-106.08889009999999, -103.72714], \"mode\": \"lines\", \"type\": \"scattergeo\"}, {\"lat\": [19.24997, 20.66682], \"line\": {\"color\": \"blue\", \"width\": 1}, \"lon\": [-103.72714, -103.39182], \"mode\": \"lines\", \"type\": \"scattergeo\"}, {\"lat\": [20.66682, 21.8823395], \"line\": {\"color\": \"blue\", \"width\": 1}, \"lon\": [-103.39182, -102.28259279999999], \"mode\": \"lines\", \"type\": \"scattergeo\"}, {\"lat\": [21.8823395, 22.149820000000002], \"line\": {\"color\": \"blue\", \"width\": 1}, \"lon\": [-102.28259279999999, -100.97916], \"mode\": \"lines\", \"type\": \"scattergeo\"}, {\"lat\": [22.149820000000002, 20.5880604], \"line\": {\"color\": \"blue\", \"width\": 1}, \"lon\": [-100.97916, -100.38806149999999], \"mode\": \"lines\", \"type\": \"scattergeo\"}, {\"lat\": [20.5880604, 20.116970000000002], \"line\": {\"color\": \"blue\", \"width\": 1}, \"lon\": [-100.38806149999999, -98.73329], \"mode\": \"lines\", \"type\": \"scattergeo\"}, {\"lat\": [20.116970000000002, 19.31905], \"line\": {\"color\": \"blue\", \"width\": 1}, \"lon\": [-98.73329, -98.19981999999999], \"mode\": \"lines\", \"type\": \"scattergeo\"}, {\"lat\": [19.31905, 19.04334], \"line\": {\"color\": \"blue\", \"width\": 1}, \"lon\": [-98.19981999999999, -98.20193], \"mode\": \"lines\", \"type\": \"scattergeo\"}, {\"lat\": [19.04334, 19.287860000000002], \"line\": {\"color\": \"blue\", \"width\": 1}, \"lon\": [-98.20193, -99.65324], \"mode\": \"lines\", \"type\": \"scattergeo\"}, {\"lat\": [19.287860000000002, 18.9261], \"line\": {\"color\": \"blue\", \"width\": 1}, \"lon\": [-99.65324, -99.23075], \"mode\": \"lines\", \"type\": \"scattergeo\"}, {\"lat\": [18.9261, 19.4284706], \"line\": {\"color\": \"blue\", \"width\": 1}, \"lon\": [-99.23075, -99.1276627], \"mode\": \"lines\", \"type\": \"scattergeo\"}, {\"lat\": [19.4284706, 22.76843], \"line\": {\"color\": \"blue\", \"width\": 1}, \"lon\": [-99.1276627, -102.58140999999999], \"mode\": \"lines\", \"type\": \"scattergeo\"}, {\"lat\": [22.76843, 25.423210100000002], \"line\": {\"color\": \"blue\", \"width\": 1}, \"lon\": [-102.58140999999999, -101.0053024], \"mode\": \"lines\", \"type\": \"scattergeo\"}, {\"lat\": [25.423210100000002, 25.67507], \"line\": {\"color\": \"blue\", \"width\": 1}, \"lon\": [-101.0053024, -100.31846999999999], \"mode\": \"lines\", \"type\": \"scattergeo\"}, {\"lat\": [25.67507, 24.020320899999998], \"line\": {\"color\": \"blue\", \"width\": 1}, \"lon\": [-100.31846999999999, -104.6575623], \"mode\": \"lines\", \"type\": \"scattergeo\"}, {\"lat\": [24.020320899999998, 21.509510000000002], \"line\": {\"color\": \"blue\", \"width\": 1}, \"lon\": [-104.6575623, -104.89568999999999], \"mode\": \"lines\", \"type\": \"scattergeo\"}, {\"lat\": [21.509510000000002, 19.700779999999998], \"line\": {\"color\": \"blue\", \"width\": 1}, \"lon\": [-104.89568999999999, -101.18443], \"mode\": \"lines\", \"type\": \"scattergeo\"}, {\"lat\": [19.700779999999998, 21.01858], \"line\": {\"color\": \"blue\", \"width\": 1}, \"lon\": [-101.18443, -101.2591], \"mode\": \"lines\", \"type\": \"scattergeo\"}, {\"lat\": [21.01858, 19.53124], \"line\": {\"color\": \"blue\", \"width\": 1}, \"lon\": [-101.2591, -96.91589], \"mode\": \"lines\", \"type\": \"scattergeo\"}, {\"lat\": [19.53124, 17.06542], \"line\": {\"color\": \"blue\", \"width\": 1}, \"lon\": [-96.91589, -96.72365], \"mode\": \"lines\", \"type\": \"scattergeo\"}, {\"lat\": [17.06542, 19.843860600000003], \"line\": {\"color\": \"blue\", \"width\": 1}, \"lon\": [-96.72365, -90.5255432], \"mode\": \"lines\", \"type\": \"scattergeo\"}, {\"lat\": [19.843860600000003, 18.514129999999998], \"line\": {\"color\": \"blue\", \"width\": 1}, \"lon\": [-90.5255432, -88.30381], \"mode\": \"lines\", \"type\": \"scattergeo\"}],\n",
              "                        {\"geo\": {\"projection\": {\"type\": \"conic equal area\"}, \"scope\": \"north america\", \"showland\": true}, \"height\": 1400, \"showlegend\": true, \"template\": {\"data\": {\"bar\": [{\"error_x\": {\"color\": \"#2a3f5f\"}, \"error_y\": {\"color\": \"#2a3f5f\"}, \"marker\": {\"line\": {\"color\": \"#E5ECF6\", \"width\": 0.5}}, \"type\": \"bar\"}], \"barpolar\": [{\"marker\": {\"line\": {\"color\": \"#E5ECF6\", \"width\": 0.5}}, \"type\": \"barpolar\"}], \"carpet\": [{\"aaxis\": {\"endlinecolor\": \"#2a3f5f\", \"gridcolor\": \"white\", \"linecolor\": \"white\", \"minorgridcolor\": \"white\", \"startlinecolor\": \"#2a3f5f\"}, \"baxis\": {\"endlinecolor\": \"#2a3f5f\", \"gridcolor\": \"white\", \"linecolor\": \"white\", \"minorgridcolor\": \"white\", \"startlinecolor\": \"#2a3f5f\"}, \"type\": \"carpet\"}], \"choropleth\": [{\"colorbar\": {\"outlinewidth\": 0, \"ticks\": \"\"}, \"type\": \"choropleth\"}], \"contour\": [{\"colorbar\": {\"outlinewidth\": 0, \"ticks\": \"\"}, \"colorscale\": [[0.0, \"#0d0887\"], [0.1111111111111111, \"#46039f\"], [0.2222222222222222, \"#7201a8\"], [0.3333333333333333, \"#9c179e\"], [0.4444444444444444, \"#bd3786\"], [0.5555555555555556, \"#d8576b\"], [0.6666666666666666, \"#ed7953\"], [0.7777777777777778, \"#fb9f3a\"], [0.8888888888888888, \"#fdca26\"], [1.0, \"#f0f921\"]], \"type\": \"contour\"}], \"contourcarpet\": [{\"colorbar\": {\"outlinewidth\": 0, \"ticks\": \"\"}, \"type\": \"contourcarpet\"}], \"heatmap\": [{\"colorbar\": {\"outlinewidth\": 0, \"ticks\": \"\"}, \"colorscale\": [[0.0, \"#0d0887\"], [0.1111111111111111, \"#46039f\"], [0.2222222222222222, \"#7201a8\"], [0.3333333333333333, \"#9c179e\"], [0.4444444444444444, \"#bd3786\"], [0.5555555555555556, \"#d8576b\"], [0.6666666666666666, \"#ed7953\"], [0.7777777777777778, \"#fb9f3a\"], [0.8888888888888888, \"#fdca26\"], [1.0, \"#f0f921\"]], \"type\": \"heatmap\"}], \"heatmapgl\": [{\"colorbar\": {\"outlinewidth\": 0, \"ticks\": \"\"}, \"colorscale\": [[0.0, \"#0d0887\"], [0.1111111111111111, \"#46039f\"], [0.2222222222222222, \"#7201a8\"], [0.3333333333333333, \"#9c179e\"], [0.4444444444444444, \"#bd3786\"], [0.5555555555555556, \"#d8576b\"], [0.6666666666666666, \"#ed7953\"], [0.7777777777777778, \"#fb9f3a\"], [0.8888888888888888, \"#fdca26\"], [1.0, \"#f0f921\"]], \"type\": \"heatmapgl\"}], \"histogram\": [{\"marker\": {\"colorbar\": {\"outlinewidth\": 0, \"ticks\": \"\"}}, \"type\": \"histogram\"}], \"histogram2d\": [{\"colorbar\": {\"outlinewidth\": 0, \"ticks\": \"\"}, \"colorscale\": [[0.0, \"#0d0887\"], [0.1111111111111111, \"#46039f\"], [0.2222222222222222, \"#7201a8\"], [0.3333333333333333, \"#9c179e\"], [0.4444444444444444, \"#bd3786\"], [0.5555555555555556, \"#d8576b\"], [0.6666666666666666, \"#ed7953\"], [0.7777777777777778, \"#fb9f3a\"], [0.8888888888888888, \"#fdca26\"], [1.0, \"#f0f921\"]], \"type\": \"histogram2d\"}], \"histogram2dcontour\": [{\"colorbar\": {\"outlinewidth\": 0, \"ticks\": \"\"}, \"colorscale\": [[0.0, \"#0d0887\"], [0.1111111111111111, \"#46039f\"], [0.2222222222222222, \"#7201a8\"], [0.3333333333333333, \"#9c179e\"], [0.4444444444444444, \"#bd3786\"], [0.5555555555555556, \"#d8576b\"], [0.6666666666666666, \"#ed7953\"], [0.7777777777777778, \"#fb9f3a\"], [0.8888888888888888, \"#fdca26\"], [1.0, \"#f0f921\"]], \"type\": \"histogram2dcontour\"}], \"mesh3d\": [{\"colorbar\": {\"outlinewidth\": 0, \"ticks\": \"\"}, \"type\": \"mesh3d\"}], \"parcoords\": [{\"line\": {\"colorbar\": {\"outlinewidth\": 0, \"ticks\": \"\"}}, \"type\": \"parcoords\"}], \"pie\": [{\"automargin\": true, \"type\": \"pie\"}], \"scatter\": [{\"marker\": {\"colorbar\": {\"outlinewidth\": 0, \"ticks\": \"\"}}, \"type\": \"scatter\"}], \"scatter3d\": [{\"line\": {\"colorbar\": {\"outlinewidth\": 0, \"ticks\": \"\"}}, \"marker\": {\"colorbar\": {\"outlinewidth\": 0, \"ticks\": \"\"}}, \"type\": \"scatter3d\"}], \"scattercarpet\": [{\"marker\": {\"colorbar\": {\"outlinewidth\": 0, \"ticks\": \"\"}}, \"type\": \"scattercarpet\"}], \"scattergeo\": [{\"marker\": {\"colorbar\": {\"outlinewidth\": 0, \"ticks\": \"\"}}, \"type\": \"scattergeo\"}], \"scattergl\": [{\"marker\": {\"colorbar\": {\"outlinewidth\": 0, \"ticks\": \"\"}}, \"type\": \"scattergl\"}], \"scattermapbox\": [{\"marker\": {\"colorbar\": {\"outlinewidth\": 0, \"ticks\": \"\"}}, \"type\": \"scattermapbox\"}], \"scatterpolar\": [{\"marker\": {\"colorbar\": {\"outlinewidth\": 0, \"ticks\": \"\"}}, \"type\": \"scatterpolar\"}], \"scatterpolargl\": [{\"marker\": {\"colorbar\": {\"outlinewidth\": 0, \"ticks\": \"\"}}, \"type\": \"scatterpolargl\"}], \"scatterternary\": [{\"marker\": {\"colorbar\": {\"outlinewidth\": 0, \"ticks\": \"\"}}, \"type\": \"scatterternary\"}], \"surface\": [{\"colorbar\": {\"outlinewidth\": 0, \"ticks\": \"\"}, \"colorscale\": [[0.0, \"#0d0887\"], [0.1111111111111111, \"#46039f\"], [0.2222222222222222, \"#7201a8\"], [0.3333333333333333, \"#9c179e\"], [0.4444444444444444, \"#bd3786\"], [0.5555555555555556, \"#d8576b\"], [0.6666666666666666, \"#ed7953\"], [0.7777777777777778, \"#fb9f3a\"], [0.8888888888888888, \"#fdca26\"], [1.0, \"#f0f921\"]], \"type\": \"surface\"}], \"table\": [{\"cells\": {\"fill\": {\"color\": \"#EBF0F8\"}, \"line\": {\"color\": \"white\"}}, \"header\": {\"fill\": {\"color\": \"#C8D4E3\"}, \"line\": {\"color\": \"white\"}}, \"type\": \"table\"}]}, \"layout\": {\"annotationdefaults\": {\"arrowcolor\": \"#2a3f5f\", \"arrowhead\": 0, \"arrowwidth\": 1}, \"coloraxis\": {\"colorbar\": {\"outlinewidth\": 0, \"ticks\": \"\"}}, \"colorscale\": {\"diverging\": [[0, \"#8e0152\"], [0.1, \"#c51b7d\"], [0.2, \"#de77ae\"], [0.3, \"#f1b6da\"], [0.4, \"#fde0ef\"], [0.5, \"#f7f7f7\"], [0.6, \"#e6f5d0\"], [0.7, \"#b8e186\"], [0.8, \"#7fbc41\"], [0.9, \"#4d9221\"], [1, \"#276419\"]], \"sequential\": [[0.0, \"#0d0887\"], [0.1111111111111111, \"#46039f\"], [0.2222222222222222, \"#7201a8\"], [0.3333333333333333, \"#9c179e\"], [0.4444444444444444, \"#bd3786\"], [0.5555555555555556, \"#d8576b\"], [0.6666666666666666, \"#ed7953\"], [0.7777777777777778, \"#fb9f3a\"], [0.8888888888888888, \"#fdca26\"], [1.0, \"#f0f921\"]], \"sequentialminus\": [[0.0, \"#0d0887\"], [0.1111111111111111, \"#46039f\"], [0.2222222222222222, \"#7201a8\"], [0.3333333333333333, \"#9c179e\"], [0.4444444444444444, \"#bd3786\"], [0.5555555555555556, \"#d8576b\"], [0.6666666666666666, \"#ed7953\"], [0.7777777777777778, \"#fb9f3a\"], [0.8888888888888888, \"#fdca26\"], [1.0, \"#f0f921\"]]}, \"colorway\": [\"#636efa\", \"#EF553B\", \"#00cc96\", \"#ab63fa\", \"#FFA15A\", \"#19d3f3\", \"#FF6692\", \"#B6E880\", \"#FF97FF\", \"#FECB52\"], \"font\": {\"color\": \"#2a3f5f\"}, \"geo\": {\"bgcolor\": \"white\", \"lakecolor\": \"white\", \"landcolor\": \"#E5ECF6\", \"showlakes\": true, \"showland\": true, \"subunitcolor\": \"white\"}, \"hoverlabel\": {\"align\": \"left\"}, \"hovermode\": \"closest\", \"mapbox\": {\"style\": \"light\"}, \"paper_bgcolor\": \"white\", \"plot_bgcolor\": \"#E5ECF6\", \"polar\": {\"angularaxis\": {\"gridcolor\": \"white\", \"linecolor\": \"white\", \"ticks\": \"\"}, \"bgcolor\": \"#E5ECF6\", \"radialaxis\": {\"gridcolor\": \"white\", \"linecolor\": \"white\", \"ticks\": \"\"}}, \"scene\": {\"xaxis\": {\"backgroundcolor\": \"#E5ECF6\", \"gridcolor\": \"white\", \"gridwidth\": 2, \"linecolor\": \"white\", \"showbackground\": true, \"ticks\": \"\", \"zerolinecolor\": \"white\"}, \"yaxis\": {\"backgroundcolor\": \"#E5ECF6\", \"gridcolor\": \"white\", \"gridwidth\": 2, \"linecolor\": \"white\", \"showbackground\": true, \"ticks\": \"\", \"zerolinecolor\": \"white\"}, \"zaxis\": {\"backgroundcolor\": \"#E5ECF6\", \"gridcolor\": \"white\", \"gridwidth\": 2, \"linecolor\": \"white\", \"showbackground\": true, \"ticks\": \"\", \"zerolinecolor\": \"white\"}}, \"shapedefaults\": {\"line\": {\"color\": \"#2a3f5f\"}}, \"ternary\": {\"aaxis\": {\"gridcolor\": \"white\", \"linecolor\": \"white\", \"ticks\": \"\"}, \"baxis\": {\"gridcolor\": \"white\", \"linecolor\": \"white\", \"ticks\": \"\"}, \"bgcolor\": \"#E5ECF6\", \"caxis\": {\"gridcolor\": \"white\", \"linecolor\": \"white\", \"ticks\": \"\"}}, \"title\": {\"x\": 0.05}, \"xaxis\": {\"automargin\": true, \"gridcolor\": \"white\", \"linecolor\": \"white\", \"ticks\": \"\", \"title\": {\"standoff\": 15}, \"zerolinecolor\": \"white\", \"zerolinewidth\": 2}, \"yaxis\": {\"automargin\": true, \"gridcolor\": \"white\", \"linecolor\": \"white\", \"ticks\": \"\", \"title\": {\"standoff\": 15}, \"zerolinecolor\": \"white\", \"zerolinewidth\": 2}}}, \"title\": {\"text\": \"Mejor recorrido\"}, \"width\": 1800},\n",
              "                        {\"responsive\": true}\n",
              "                    ).then(function(){\n",
              "                            \n",
              "var gd = document.getElementById('a3f311c7-40f1-476d-b60d-36bfffa54c3a');\n",
              "var x = new MutationObserver(function (mutations, observer) {{\n",
              "        var display = window.getComputedStyle(gd).display;\n",
              "        if (!display || display === 'none') {{\n",
              "            console.log([gd, 'removed!']);\n",
              "            Plotly.purge(gd);\n",
              "            observer.disconnect();\n",
              "        }}\n",
              "}});\n",
              "\n",
              "// Listen for the removal of the full notebook cells\n",
              "var notebookContainer = gd.closest('#notebook-container');\n",
              "if (notebookContainer) {{\n",
              "    x.observe(notebookContainer, {childList: true});\n",
              "}}\n",
              "\n",
              "// Listen for the clearing of the current output cell\n",
              "var outputEl = gd.closest('.output');\n",
              "if (outputEl) {{\n",
              "    x.observe(outputEl, {childList: true});\n",
              "}}\n",
              "\n",
              "                        })\n",
              "                };\n",
              "                \n",
              "            </script>\n",
              "        </div>\n",
              "</body>\n",
              "</html>"
            ]
          },
          "metadata": {}
        }
      ]
    },
    {
      "cell_type": "markdown",
      "metadata": {
        "id": "YYMGAr2Red1x"
      },
      "source": [
        "Se imprimen los resultados obtenidos junto con la gráfica del proceso evolutivo.\n",
        "\n",
        "En la gráfica se muestran el promedio de aptitud de toda la población (línea azul), la máxima aptitud (línea naranja) y la máxima (línea verde)"
      ]
    },
    {
      "cell_type": "code",
      "metadata": {
        "colab": {
          "base_uri": "https://localhost:8080/",
          "height": 354
        },
        "id": "ijUixvYvUMwx",
        "outputId": "611bb03c-3b12-473b-89ce-60148863be0f"
      },
      "source": [
        "print(\"Mejor individuo es: %s\\n%s\\ncon aptitud de : %s\" % (mejor[0],recorrido_nombres, mejor[0].fitness))\n",
        "    \n",
        "import matplotlib.pyplot as plt\n",
        "gen, avg, min_, max_ = estadisticas.select(\"gen\", \"avg\", \"min\", \"max\")\n",
        "plt.plot(gen, avg, label=\"average\")\n",
        "plt.plot(gen, min_, label=\"minimum\")\n",
        "plt.plot(gen, max_, label=\"maximum\")\n",
        "plt.xlabel(\"Generation\")\n",
        "plt.ylabel(\"Fitness\")\n",
        "plt.legend(loc=\"upper right\")\n",
        "\n",
        "\n",
        "plt.rcParams[\"figure.figsize\"] = (10,10)\n",
        "plt.show()\n"
      ],
      "execution_count": 20,
      "outputs": [
        {
          "output_type": "stream",
          "name": "stdout",
          "text": [
            "Mejor individuo es: Individual('i', [22, 30, 26, 5, 10, 27, 24, 2, 1, 25, 4, 7, 13, 0, 23, 21, 12, 28, 20, 14, 16, 11, 31, 6, 18, 8, 17, 15, 9, 29, 19, 3])\n",
            "['chetumal', 'merida', 'villahermosa', 'tuxtlaGtz', 'chilpancingo', 'cuidadvictoria', 'culiacan', 'lapaz', 'mexicalli', 'hermosillo', 'chihuahua', 'colima', 'guadalajara', 'aguascalientes', 'Sanluis', 'queretaro', 'pachuca', 'tlaxcala', 'puebla', 'toluca', 'cuernavaca', 'cdmx', 'zacatecas', 'Saltillo', 'monterrey', 'victoriaDurango', 'tepic', 'morelia', 'guanajuato', 'xalapa', 'oaxaca', 'campeche', 'chetumal']\n",
            "con aptitud de : (111.92300584552925,)\n"
          ]
        },
        {
          "output_type": "display_data",
          "data": {
            "image/png": "[encoded data removed]",
            "text/plain": [
              "<Figure size 432x288 with 1 Axes>"
            ]
          },
          "metadata": {
            "needs_background": "light"
          }
        }
      ]
    }
  ]
}